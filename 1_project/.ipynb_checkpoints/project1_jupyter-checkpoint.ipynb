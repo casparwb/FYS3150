{
 "cells": [
  {
   "cell_type": "markdown",
   "metadata": {},
   "source": [
    "## 1.a\n",
    "\n",
    "$$-u''(x) = f(x)$$\n",
    "\n",
    "$$x \\in (0, 1) \\qquad u(0) = u(1) = 0$$\n",
    "\n",
    "discretised:\n",
    "\n",
    "$$- \\frac{v_{i+1} + v_{i-1} - 2v_i}{h^2} = f_i$$\n",
    "\n",
    "rewrite as:\n",
    "\n",
    "$$A \\vec{v} = \\vec{d]$$\n",
    "\n",
    "where $d_i = h^2 f_i$\n",
    "\n",
    "and $i = 1,..., n$\n",
    "\n",
    "multiplying the $-$ and moving the $h^2$ we get:\n",
    "\n",
    "$$2v_i - v_{i+1} - v_{i-1} = h^2f_i$$\n",
    "\n",
    "and the iterations become:\n",
    "\n",
    "$$2v_1 - v_2 = h^2 f_1$$ \n",
    "$$2v_2 - v_3 - v_1 = h^2 f_2$$ \n",
    "$$2v_3 - v_4 - v_2 = h^2 f_3$$\n",
    "$$\\vdots$$\n",
    "$$2v_n -v_{n-1}  = h^2 f_n$$\n",
    "\n",
    "We recognize this as a matrix-vector multiplication $A\\vec{v} = \\vec{d}$ where  $\\vec{v} = \\begin{bmatrix} v_1 \\\\ v_{2} \\\\ \\vdots \\\\ v_{n+1} \\end{bmatrix}$, $A =$ \n",
    "\n",
    "\\begin{bmatrix} \n",
    "2 & -1 & 0 & 0 &\\dots & 0 \\\\\n",
    "-1 & 2 & -1 & 0 & \\dots & 0 \\\\\n",
    "0 & -1 & 2 & -1 & \\dots & 0 \\\\\n",
    "\\vdots & \\vdots &\\vdots & \\vdots &\\ddots & -1 \\\\\n",
    "0 & \\dots & \\dots & -1& 2 & -1 \\\\\n",
    "0 & 0 & 0 & 0 & -1 & 2 \\\\\n",
    "\\end{bmatrix} \n",
    "\n",
    "and $\\vec{d} = \\begin{bmatrix} h^2 b_1 \\\\ h^2 b_2 \\\\ \\vdots \\\\ h^2 b_{n+1} \\end{bmatrix}$"
   ]
  },
  {
   "cell_type": "markdown",
   "metadata": {},
   "source": [
    "## 1.b\n",
    "\n",
    "We want to solve equations on the form \n",
    "\n",
    "$$a_i v_{i-1} + b_i v_i + c_i v_{i+1} = d_i $$\n",
    "\n",
    "For $i= 1$ we get:\n",
    "\n",
    "$$v_1 = \\frac{d_1 - c_1 v_2}{b_1}$$\n",
    "\n",
    "From Gaussian Elimination we get the following algorithm:\n",
    "\n",
    "For $i = 2, 3 ..., n$ we do:\n",
    "\n",
    "$$w = \\frac{a_i}{b_{i-1}}$$\n",
    "\n",
    "$$b_i = b_i - w \\times c_{i-1}$$\n",
    "\n",
    "$$d_i =d_i - w \\times d_{i-1}$$\n",
    "\n",
    "$$v_n = \\frac{d_n}{b_n}$$\n",
    "\n",
    "for $i = n-1,... 1$ do:\n",
    "\n",
    "$$v_i =d_i - \\frac{c_i v_{i+1}}{b_i}$$\n",
    "\n",
    "Number of flops"
   ]
  },
  {
   "cell_type": "markdown",
   "metadata": {},
   "source": [
    "No. of flops:\n",
    "\n",
    "For $i = 1$: \n",
    "\n",
    "1x subtraction + 1x multiplication + 1x division = 3flops\n",
    "\n",
    "For $i = 2, 3, .... n$, each iteration has:\n",
    "\n",
    "1x division + 2x subtractions + 2x multiplication = 5 flops\n",
    "\n",
    "(the division of $\\tilde{b}_n/b_n$ is only necessary to to once)\n",
    "\n",
    "for a total of $5(n-1) + 1$ flops\n",
    "\n",
    "for the $i = n-1,... 1,$-loop we have 1x subtraction + 1x multiplication + 1x division = 3*(n-2) flops\n",
    "\n",
    "TOTAL:\n",
    "\n",
    "$$4 + 5(n-1) + 3(n-2)$$\n"
   ]
  },
  {
   "cell_type": "code",
   "execution_count": 1,
   "metadata": {},
   "outputs": [],
   "source": [
    "using Plots\n",
    "using LinearAlgebra\n",
    "using Printf\n",
    "using CPUTime"
   ]
  },
  {
   "cell_type": "code",
   "execution_count": 14,
   "metadata": {},
   "outputs": [
    {
     "data": {
      "text/plain": [
       "exact (generic function with 1 method)"
      ]
     },
     "execution_count": 14,
     "metadata": {},
     "output_type": "execute_result"
    }
   ],
   "source": [
    "function matvecmulti_gen(n::Int64)\n",
    "\n",
    "    \"\"\"Generalized matrix-vector multiplication with a tridiagonal matrix\"\"\"\n",
    "\n",
    "    h = 1.0/(n + 1)          # step size\n",
    "    hh = 100*h*h\n",
    "    a = zeros(Float64, n)\n",
    "    b = zeros(Float64, n)\n",
    "    c = zeros(Float64, n)\n",
    "    d = zeros(Float64, n)\n",
    "\n",
    "    v = zeros(Float64, n)\n",
    "\n",
    "    # initialize\n",
    "\n",
    "    for i = 1:n\n",
    "        a[i] = -1.0\n",
    "        b[i] = 2.0\n",
    "        c[i] = -1.0\n",
    "        d[i] = hh*exp(-10.0*(i*h))  # source term\n",
    "    end\n",
    "\n",
    "    a[1] = 0.0\n",
    "    c[n] = 0.0\n",
    "\n",
    "\n",
    "    # forward substitution\n",
    "    t = @elapsed @CPUelapsed for i = 2:n\n",
    "        w = a[i]/b[i-1]\n",
    "\n",
    "        b[i] -= w*c[i-1]\n",
    "        d[i] -= w*d[i-1]\n",
    "    end\n",
    "\n",
    "\n",
    "    # backward substitution\n",
    "    t += @elapsed @CPUelapsed v[n] = d[n]/b[n]\n",
    "\n",
    "    t += @elapsed @CPUelapsed for i = n-1:-1:1\n",
    "        v[i] = (d[i] - c[i]*v[i+1])/b[i]\n",
    "    end\n",
    "\n",
    "    return v, t\n",
    "\n",
    "end\n",
    "\n",
    "\n",
    "function exact(x::Float64)\n",
    "    \"\"\" Analytical solution \"\"\"\n",
    "    return 1 - (1 - exp(-10))*x - exp(-10*x)\n",
    "end"
   ]
  },
  {
   "cell_type": "code",
   "execution_count": 20,
   "metadata": {},
   "outputs": [
    {
     "data": {
      "text/plain": [
       "plotting (generic function with 1 method)"
      ]
     },
     "execution_count": 20,
     "metadata": {},
     "output_type": "execute_result"
    }
   ],
   "source": [
    "\n",
    "function plotting()\n",
    "    \n",
    "    n1 = 10\n",
    "    n2 = 100\n",
    "    n3 = 1000\n",
    "\n",
    "    x1 = range(0, stop=1, length=n1)\n",
    "    x2 = range(0, stop=1, length=n2)\n",
    "    x3 = range(0, stop=1, length=n3)\n",
    "\n",
    "    y1 = matvecmulti_gen(n1)[1]\n",
    "    y2 = matvecmulti_gen(n2)[1]\n",
    "    y3 = matvecmulti_gen(n3)[1]\n",
    "\n",
    "    pl1 = plot(x1, y1, title=\"n=10\", legend=false)\n",
    "    pl1 = plot!(x1, map(exact, x1), legend=false)\n",
    "\n",
    "    pl2 = plot(x2, y2, title=\"n=100\", label=\"Numerical\")\n",
    "    pl2 = plot!(x2, map(exact, x2), label=\"Analytical\")\n",
    "\n",
    "    pl3 = plot(x3, y3, title=\"n=1000\", legend=false)\n",
    "    pl3 = plot!(x3, map(exact, x3), legend=false)\n",
    "\n",
    "    plot(pl1, pl2, pl3, layout=(3, 1), xlabel=\"x\", ylabel=\"f(x)\")\n",
    "\n",
    "    #savefig(\"1bplot.png\")\n",
    "    \n",
    "end"
   ]
  },
  {
   "cell_type": "markdown",
   "metadata": {},
   "source": [
    "## 1.c: specialize the algorithm for idential elements along the diagonal and neighbours\n",
    "\n",
    "### General algorithm:\n",
    "\n",
    "For $i = 2, 3 ..., n$ we do:\n",
    "\n",
    "$$w = \\frac{a_i}{b_{i-1}}$$\n",
    "\n",
    "$$b_i = b_i - w \\times c_{i-1}$$\n",
    "\n",
    "$$d_i =d_i - w \\times d_{i-1}$$\n",
    "\n",
    "$$v_n = \\frac{d_n}{b_n}$$\n",
    "\n",
    "for $i = n-1,... 1$ do:\n",
    "\n",
    "$$v_i =d_i - \\frac{c_i v_{i+1}}{b_i}$$\n"
   ]
  },
  {
   "cell_type": "markdown",
   "metadata": {},
   "source": [
    "### Specialized:\n",
    "\n",
    "We now only have the values $a = c = -1$ and $b = 2$ instead of vectors, which means we don't have to calculate $w_i$ or $b_i$ for each iteration.\n",
    "\n",
    "$ w = \\frac{a}{b}$\n",
    "\n",
    "\n",
    "$b_{new} = b - w*c$\n",
    "\n",
    "for $i = 2, 3, ..., n$ do\n",
    "\n",
    "\n",
    "    $d_i = d_i - w*d_{i-1}$\n",
    "    \n",
    "    \n",
    "end\n",
    "\n",
    "\n",
    "$v_n = \\frac{d_i}{b_{new}}$\n",
    "\n",
    "\n",
    "$\\text{one_over_b} = \\frac{1.0}{b}$\n",
    "\n",
    "\n",
    "for $i = n-1, ...., 1$ do\n",
    "\n",
    "\n",
    "    $v_i = d_i - (c \\times v_{i+1})\\times \\text{one_over_b}$\n",
    "    \n",
    "    \n",
    "end"
   ]
  },
  {
   "cell_type": "code",
   "execution_count": 4,
   "metadata": {},
   "outputs": [
    {
     "data": {
      "text/plain": [
       "matvecmulti_spec (generic function with 1 method)"
      ]
     },
     "execution_count": 4,
     "metadata": {},
     "output_type": "execute_result"
    }
   ],
   "source": [
    "function matvecmulti_spec(n::Int64)\n",
    "    \"\"\"\n",
    "        Matrix-vector multiplication with a tridiagonal Toeplitz matrix\n",
    "        n: number of grid points\n",
    "    \"\"\"\n",
    "\n",
    "\n",
    "    h = 1.0/(n + 1)          # step size\n",
    "    hh = 100*h*h\n",
    "    d = zeros(Float64, n)    # right side of equation\n",
    "    b = zeros(Float64, n)    # array for storing 1/b[i]\n",
    "    v = zeros(Float64, n)    # array for storing result\n",
    "\n",
    "    # initialize source term and b\n",
    "    d = [hh*exp(-10.0*(i*h)) for i = 1:n]\n",
    "    b = [1.0/((i+1)/i) for i = 1:n]\n",
    "\n",
    "    # forward substitution\n",
    "    t = @elapsed @CPUelapsed  for i = 2:n\n",
    "        d[i] += d[i-1]*b[i-1]\n",
    "    end\n",
    "\n",
    "    # backward substitution\n",
    "    t += @elapsed @CPUelapsed  v[n] = d[n]*b[n]\n",
    "\n",
    "    t += @elapsed @CPUelapsed  for i = n-1:-1:1\n",
    "        v[i] = (d[i+1] + v[i+1])*b[i]\n",
    "    end\n",
    "\n",
    "    return v, t\n",
    "\n",
    "end"
   ]
  },
  {
   "cell_type": "code",
   "execution_count": 144,
   "metadata": {},
   "outputs": [
    {
     "data": {
      "text/plain": [
       "CPU_time (generic function with 1 method)"
      ]
     },
     "execution_count": 144,
     "metadata": {},
     "output_type": "execute_result"
    }
   ],
   "source": [
    "# timing:\n",
    "\n",
    "\n",
    "function CPU_time(n::Int64)\n",
    "\n",
    "    \n",
    "    t_gen = matvecmulti_gen(n)[2]\n",
    "    t_spec = matvecmulti_spec(n)[2]\n",
    "\n",
    "    @printf(\"General algorithm time with %d grid points: %lf ms\\n\", n, t_gen*1000)\n",
    "    @printf(\"Special algorithm time with %d grid points: %lf ms\\n\", n, t_spec*1000)\n",
    "    @printf(\"Difference: %lf ms\\n\", 1000*abs(t_gen - t_spec))\n",
    "    @printf(\"\\n\")\n",
    "    \n",
    "    return t_gen, t_spec\n",
    "    \n",
    "end\n",
    "\n"
   ]
  },
  {
   "cell_type": "markdown",
   "metadata": {},
   "source": [
    "$$\\begin{bmatrix} \n",
    "d_1 & b_1 & 0 & 0 & 0 \\\\\n",
    "a_2 & d_2 & b_2 & 0 & 0 \\\\\n",
    "0 & a_3 & d_3 & b_3 & 0 \\\\\n",
    "0 & 0 & a_4 & d_4 & b_4 \\\\\n",
    "0 & 0 & 0 & a_5 & d_5 \\\\\n",
    "\\end{bmatrix} \\begin{bmatrix} x_1 \\\\ x_2 \\\\ x_3 \\\\ x_4 \\\\ x_5 \\end{bmatrix} = \\begin{bmatrix} g_1 \\\\ g_2 \\\\ g_3 \\\\ g_4 \\\\ g_5 \\end{bmatrix}$$"
   ]
  },
  {
   "cell_type": "markdown",
   "metadata": {},
   "source": [
    "\n",
    "\n",
    "1. $R1 \\times \\frac{1}{d_1}$\n",
    "2. $R2 - a_2*R1$\n",
    "3. $R2 \\times \\frac{1}{d_2}$\n",
    "4. $R3 - a_3*R2$\n",
    "5. $R3 \\times \\frac{1}{d_3}$\n",
    "6. $R4 - a_4*R3$\n",
    "7. $R4 \\times \\frac{1}{d_4}$\n",
    "8. $R5 - a_5*R4$\n",
    "9.  $R5 \\times \\frac{1}{d_5}$\n"
   ]
  },
  {
   "cell_type": "markdown",
   "metadata": {},
   "source": [
    "$$ a = \\begin{bmatrix} a_1 \\\\ \\vdots \\\\ a_n \\end{bmatrix} \\qquad b = \\begin{bmatrix} b_1 \\\\ \\vdots \\\\ b_n \\end{bmatrix} \\qquad d = \\begin{bmatrix} d_1 \\\\ \\vdots \\\\ d_n \\end{bmatrix}$$"
   ]
  },
  {
   "cell_type": "markdown",
   "metadata": {},
   "source": [
    "1. $d_1 = d_1/d_1$\n",
    "\n",
    "    $b_1 = b_1/d_1$\n",
    "2. $a_2 = 0$\n",
    "\n",
    "    $d_2 = d_2 - b_1*a_2$\n",
    "3. $d_2 = d_2/d_2$\n",
    "\n",
    "   $b_2 = b_2/d_2$\n",
    "4. $a_3 = 0$\n",
    "\n",
    "    $d_3 = d_3 - b_2*a_3$\n",
    "5. $d_3 = d_3/d_3$\n",
    "\n",
    "    $b_3 = b_3/d_3$\n",
    "6. $a_4 = 0$\n",
    "\n",
    "    $d_4 = d_4 - b_3*a_4$\n",
    "7. $d_4 = d_4/d_4$\n",
    "\n",
    "    $b_4 = b_4/d_4$\n",
    "8. $a_5 = 0$\n",
    "\n",
    "    $d_5 = d_5 * b_4*a_5$\n",
    "9. $d_5 = d_5/d_5$\n",
    "\n",
    "    $b_5 = b_5/d_5$"
   ]
  },
  {
   "cell_type": "markdown",
   "metadata": {},
   "source": [
    "## 1.d)\n",
    "\n",
    "compute the relative error in the data set $i = 1,...,n$ by setting up \n",
    "\n",
    "$$\\epsilon_i = \\log_{10} \\left(  \\lvert {\\frac{v_i - u_i}{u_i}} \\rvert \\right)$$\n",
    "\n",
    "as a function of $\\log_{10} (h)$ for the function values $u_i$ and $v_i$.\n",
    "For each step length extract the max value of the relative error. Try to increase $n$ to $n=10^7$. Make a table of the results and comment your results. You can use eother the algorithm from b) or c)."
   ]
  },
  {
   "cell_type": "code",
   "execution_count": 130,
   "metadata": {},
   "outputs": [
    {
     "data": {
      "text/plain": [
       "plot_error (generic function with 3 methods)"
      ]
     },
     "execution_count": 130,
     "metadata": {},
     "output_type": "execute_result"
    }
   ],
   "source": [
    "function rel_error(n::Int64)\n",
    "\n",
    "    h = 1.0/(n+1)\n",
    "    x = range(h, stop=h*n, length=n)\n",
    "\n",
    "    # calculate the numerical and analytical solutions\n",
    "    v = matvecmulti_gen(n)[1]\n",
    "    u = map(exact, x)\n",
    "\n",
    "    # calculate the absolute difference between each element\n",
    "    diff = (v .- u) ./ u\n",
    "\n",
    "\n",
    "    abs_value = broadcast(abs, diff)\n",
    "    epsilon = maximum(broadcast(log10, abs_value))\n",
    "\n",
    "    return epsilon\n",
    "end\n",
    "\n",
    "function plot_error(plot_, n=1:8)\n",
    "    \n",
    "    err = zeros(length(n)) # array for storing error values\n",
    "    \n",
    "    #calculate, store, and print error values\n",
    "    for (index, value) in enumerate(n)\n",
    "        err[index] = rel_error(10^value)\n",
    "        @printf(\"n = 10^%d\\n\", value)\n",
    "        @printf(\"log10 relative error: epsilon = %lf\\n\", err[index])\n",
    "        @printf(\"\\n\")\n",
    "    end\n",
    "    \n",
    "    # plotting\n",
    "    if plot_\n",
    "        x = n\n",
    "        plot(x, err, xlabel=\"log10 n\", ylabel=\"log10 max epsilon\", \n",
    "            title=\"Maximum error as a function of # grid points\",\n",
    "            legend=false)\n",
    "        scatter!(x, err, legend=false)\n",
    "        savefig(\"max_error.png\")\n",
    "    end\n",
    "end"
   ]
  },
  {
   "cell_type": "code",
   "execution_count": 131,
   "metadata": {},
   "outputs": [
    {
     "name": "stdout",
     "output_type": "stream",
     "text": [
      "n = 10^1\n",
      "log10 relative error: epsilon = -1.179698\n",
      "\n",
      "n = 10^2\n",
      "log10 relative error: epsilon = -3.088037\n",
      "\n",
      "n = 10^3\n",
      "log10 relative error: epsilon = -5.080052\n",
      "\n",
      "n = 10^4\n",
      "log10 relative error: epsilon = -7.079285\n",
      "\n",
      "n = 10^5\n",
      "log10 relative error: epsilon = -8.842972\n",
      "\n",
      "n = 10^6\n",
      "log10 relative error: epsilon = -6.075474\n",
      "\n",
      "n = 10^7\n",
      "log10 relative error: epsilon = -5.525230\n",
      "\n",
      "n = 10^8\n",
      "log10 relative error: epsilon = -1.469750\n",
      "\n"
     ]
    }
   ],
   "source": [
    "\n",
    "plot_error(true)\n",
    "\n"
   ]
  },
  {
   "cell_type": "markdown",
   "metadata": {},
   "source": [
    "# 1.e"
   ]
  },
  {
   "cell_type": "code",
   "execution_count": 145,
   "metadata": {},
   "outputs": [
    {
     "name": "stdout",
     "output_type": "stream",
     "text": [
      "General algorithm time with 10 grid points: 0.034000 ms\n",
      "Special algorithm time with 10 grid points: 0.050799 ms\n",
      "Difference: 0.016799 ms\n",
      "\n",
      "Julia LU factorization time with 10 grid point:  0.016999 ms\n",
      "\n",
      "General algorithm time with 100 grid points: 0.033101 ms\n",
      "Special algorithm time with 100 grid points: 0.042001 ms\n",
      "Difference: 0.008900 ms\n",
      "\n",
      "Julia LU factorization time with 100 grid point:  0.014500 ms\n",
      "\n",
      "General algorithm time with 1000 grid points: 0.062501 ms\n",
      "Special algorithm time with 1000 grid points: 0.040800 ms\n",
      "Difference: 0.021701 ms\n",
      "\n",
      "Julia LU factorization time with 1000 grid point:  0.027799 ms\n",
      "\n"
     ]
    }
   ],
   "source": [
    "function compare_LU(n::Int64)\n",
    "    \n",
    "    \n",
    "    dl = [-1 for i = 1:n-1]     # lower and upper diagonal elements\n",
    "    \n",
    "    d = [2 for i = 1:n]         # diagonal elements\n",
    "    \n",
    "    A = Tridiagonal(dl, d, dl)  # create the tridiagonal matrix\n",
    "    \n",
    "    t = @elapsed @CPUelapsed lu(A)\n",
    "    \n",
    "    @printf(\"Julia LU factorization time with %d grid point:  %lf ms\\n\", n, t*1000)\n",
    "    @printf(\"\\n\")\n",
    "end\n",
    "\n",
    "n = 1:3\n",
    "\n",
    "for i in n\n",
    "    CPU_time(10^i)\n",
    "    compare_LU(10^i)\n",
    "end"
   ]
  },
  {
   "cell_type": "markdown",
   "metadata": {},
   "source": [
    "LU decomp requires $\\frac{2}{3}n^3$ flops"
   ]
  },
  {
   "cell_type": "markdown",
   "metadata": {},
   "source": [
    "# Intro\n",
    "\n",
    "\\subsection{The Poisson Equation}\n",
    "In this project we will look at different numerical methods for various vector and matrix operations. We will also compare different algorithms for solving a set of linear equations by observing the CPU time for each algorithm. Finally we will look at how and why loss of numerical precision can lead to big errors. The case we will study is Poisson's equation from electromagnetism:\n",
    "\n",
    "\\begin{equation}\n",
    "    \\nabla^2 \\Phi = -4\\pi \\rho(\\vec{r})\n",
    "\\end{equation}\n",
    "\n",
    "Assuming a spherically symmetrical $\\Phi$ and $\\rho(\\vec{r})$, and using substitution, we can rewrite this as:\n",
    "\n",
    "\\begin{equation}\n",
    "    \\frac{d^2 \\phi}{dr^2} = -4\\pi r \\rho(r)\n",
    "\\end{equation}\n",
    "\n",
    "Finally, by limiting ourselves to the one-dimensional case, we get the general one-dimensional Poisson equation:\n",
    "\n",
    "\\begin{equation}\\label{eq:poisson}\n",
    "    -u''(x) = f(x)\n",
    "\\end{equation}\n",
    "\n",
    "This is the equation we want to solve, with the addition of Dirichlet boundary conditions. I.e. we want to solve:\n",
    "\n",
    "$$-u''(x) = f(x) \\qquad x \\in (0, 1) \\qquad u(0) = u(1) = 0$$\n",
    "\n",
    "By using the approximation of the double derivative, we can discretize this equation:\n",
    "\n",
    "\\begin{equation} \\label{eq: poi_disc}\n",
    "    -\\frac{v_{i+1} + v_{i-1} - 2v_i}{h^2} = f_i \\qquad \\text{for}  \\quad i = 1,....,n\n",
    "\\end{equation}\n",
    "\n",
    "Where $v_i = u(x_i)$, $f_i = f(x_i)$. Here we have defined $x = ih$ where $h$ is the step length defined as $h = \\frac{1}{n+1}$.\n",
    "\n",
    "\\subsection{A Linear Equation}\n",
    "\n",
    "By multiplying both sides with $h^2$, and defining $d_i = h^2 f_i$ we get:\n",
    "\n",
    "$$-v_{i-1} + 2v_i - v_{i+1} = d_i$$\n",
    "\n",
    "Which gives us the equations:\n",
    "\n",
    "\\begin{multiline}\n",
    "    2v_0 - v_1 = d_0 \\\\\n",
    "    -v_0 + 2v_1 - v_2 = d_1 \\\\\n",
    "\n",
    "    \\vdots \\\\\n",
    "\n",
    "    -v_{n-1} + 2v_n = d_n\n",
    "\\end{multiline}\n",
    "\n",
    "By creating $\\vec{v} = \\begin{bmatrix} v_0 \\\\ v_2 \\\\ \\vdots \\\\ v_n \\end{bmatrix}$ and $\\vec{d} = \\begin{bmatrix} d_0 \\\\ d_1 \\\\ \\vdots \\\\ d_n \\end{bmatrix}$ we see that we can write this as a matrix-vector multiplication $A\\vec{v} = \\vec{d}$ where \n",
    "\n",
    "$$A = \\begin{bmatrix}\n",
    "2 & -1 & 0 & \\dots & \\dots & 0 \\\\\n",
    "-1 & 2 & -1 & 0 & \\dots & \\dots \\\\\n",
    "0 & -1 & 2 & -1 & 0 & \\dots \\\\\n",
    "\\vdots & \\dots & \\dots & \\dots & \\dots & \\dots \\\\\n",
    "0 & \\dots & \\dots & -1 & 2 & -1 \\\\\n",
    "0 & \\dots & \\dots & 0 & -1 & 2 \n",
    "\\end{bmatrix}\n",
    "$$\n"
   ]
  },
  {
   "cell_type": "markdown",
   "metadata": {},
   "source": [
    "# Method"
   ]
  },
  {
   "cell_type": "code",
   "execution_count": null,
   "metadata": {},
   "outputs": [],
   "source": []
  }
 ],
 "metadata": {
  "kernelspec": {
   "display_name": "Julia 1.1.1",
   "language": "julia",
   "name": "julia-1.1"
  },
  "language_info": {
   "file_extension": ".jl",
   "mimetype": "application/julia",
   "name": "julia",
   "version": "1.1.1"
  }
 },
 "nbformat": 4,
 "nbformat_minor": 2
}
