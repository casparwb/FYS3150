{
 "cells": [
  {
   "cell_type": "code",
   "execution_count": 1,
   "metadata": {
    "ExecuteTime": {
     "end_time": "2019-09-30T15:33:39.416000+02:00",
     "start_time": "2019-09-30T13:33:23.102Z"
    }
   },
   "outputs": [],
   "source": [
    "# relevant imports\n",
    "\n",
    "using Plots\n",
    "using LinearAlgebra\n",
    "using Test\n",
    "using Printf"
   ]
  },
  {
   "cell_type": "code",
   "execution_count": 4,
   "metadata": {
    "ExecuteTime": {
     "end_time": "2019-09-30T15:34:33.574000+02:00",
     "start_time": "2019-09-30T13:34:33.080Z"
    }
   },
   "outputs": [
    {
     "name": "stdout",
     "output_type": "stream",
     "text": [
      "\u001b[37m\u001b[1mTest Summary: | \u001b[22m\u001b[39m\u001b[32m\u001b[1mPass  \u001b[22m\u001b[39m\u001b[36m\u001b[1mTotal\u001b[22m\u001b[39m\n",
      "Eigenvalues   | \u001b[32m 100  \u001b[39m\u001b[36m  100\u001b[39m\n",
      "Test with N = 100 successful!\n"
     ]
    }
   ],
   "source": [
    "function eigenvalue_validation(N::Int64)\n",
    "    \"\"\"A function for testing the computed eigenvalues versus the analytical solutions\"\"\"\n",
    "    \n",
    "    # setting up and diagonalizing a matrix\n",
    "    \n",
    "    h = 1.0/N    # step size\n",
    "    a = -1.0/h^2 # sub- and superdiagonal elements\n",
    "    d = 2.0/h^2  # diagonal elements\n",
    "\n",
    "\n",
    "    A = Matrix{Float64}(undef, N, N)\n",
    "    for i = 1:N\n",
    "        for j = 1:N\n",
    "            if (j == i-1) || (j == i+1)\n",
    "                A[i, j] = a\n",
    "            elseif (j == i)\n",
    "                A[i, j] = d\n",
    "            else\n",
    "                A[i, j] = 0\n",
    "            end\n",
    "        end\n",
    "    end\n",
    "    \n",
    "    \n",
    "    lambda_num = eigvals(A) # numerical eigenvales\n",
    "    lambda_an = [d + 2*a*cos(j*pi/(N+1)) for j = 1:N] # analytical eigenvalues\n",
    "    \n",
    "    epsilon = 1e-10 # tolerance\n",
    "    # test all eigenvalues\n",
    "    @testset \"Eigenvalues\" begin\n",
    "        for i = 1:N @test abs(lambda_an[i] - lambda_num[i]) < epsilon end\n",
    "    end\n",
    "    \n",
    "    println(\"Test with N = $(N) successful!\")\n",
    "end\n",
    "\n",
    "eigenvalue_validation(100)"
   ]
  },
  {
   "cell_type": "code",
   "execution_count": 5,
   "metadata": {
    "ExecuteTime": {
     "end_time": "2019-09-30T15:37:31.805000+02:00",
     "start_time": "2019-09-30T13:37:30.279Z"
    }
   },
   "outputs": [
    {
     "data": {
      "text/plain": [
       "jacobi (generic function with 1 method)"
      ]
     },
     "execution_count": 5,
     "metadata": {},
     "output_type": "execute_result"
    }
   ],
   "source": [
    "\"\"\" Implementing the Jacobi Method \"\"\"\n",
    "\n",
    "function find_max(A::Matrix)\n",
    "    \"\"\"Find the maximum value of the non-diagonal elements in A and their indices\"\"\"\n",
    "    \n",
    "    N = size(A)[1] # order of the input matrix\n",
    "   \n",
    "    # initialize variables\n",
    "    \n",
    "    max = 0\n",
    "    k = 0 # i-index of max value\n",
    "    l = 0 # j-index ----::----\n",
    "    \n",
    "    # find the maximum value and its indices\n",
    "    for i = 1:N\n",
    "        for j = 1:N\n",
    "            if j != i && abs(A[i, j]) > abs(max)\n",
    "                max = A[i, j]\n",
    "                k = i\n",
    "                l = j\n",
    "            end\n",
    "        end\n",
    "    end\n",
    "    \n",
    "    return max, k, l\n",
    "    \n",
    "end\n",
    "\n",
    "\n",
    "function create_matrix(N::Int64)\n",
    "    \"\"\"Function for setting up a tridiagonal,\n",
    "       symmetric matrix of dimensionality NxN\"\"\"\n",
    "    \n",
    "    h = 1.0/N    # step size\n",
    "    a = -1.0/h^2 # sub- and superdiagonal elements\n",
    "    d = 2.0/h^2  # diagonal elements\n",
    "    \n",
    "    # set up and initialize the matrix    \n",
    "    A = zeros(Float64, N, N)\n",
    "    \n",
    "    A[1, 1] = d\n",
    "    A[1, 2] = a\n",
    "    \n",
    "    for i = 2:N-1\n",
    "        A[i, i-1] = a\n",
    "        A[i, i+1] = a\n",
    "        A[i, i] = d\n",
    "    end\n",
    "    \n",
    "    A[N, N] = d\n",
    "    A[N, N-1] = a\n",
    "    \n",
    "    return A\n",
    "    \n",
    "end\n",
    "\n",
    "function jacobi(A::Matrix)\n",
    "    \"\"\"Perform the Jacobi rotation method for diagonalizing the matrix A\"\"\"\n",
    "    \n",
    "    N = size(A)[1] # extract the dimension of A\n",
    "\n",
    "    # matrix for storing the eigenvectors of A\n",
    "    R = Matrix{Float64}(I, N, N)   \n",
    "    \n",
    "    epsilon = 1e-8 # convergence threshold\n",
    "    off_A = find_max(A)[1] # initial maximum value of non-diagonal elements\n",
    "    \n",
    "    max_iters = N*N*N\n",
    "    counter = 0\n",
    "    \n",
    "    \"\"\"Use the built-in functions for calculating the eigenvalues and vectors of A, and time it\"\"\"\n",
    "    julia_eig = @timed eigen(A)\n",
    "    t_linalg = julia_eig[2]\n",
    "    eigvalss = julia_eig[1].values\n",
    "    \n",
    "    \"\"\"Perform the Jacobi method and time it\"\"\"\n",
    "\n",
    "    t_jacobi = @elapsed while abs(off_A) > epsilon && counter < max_iters\n",
    "\n",
    "        # find maximum of non-diagonal elements and their indices\n",
    "        max, k, l = find_max(A) \n",
    "        \n",
    "\n",
    "        a_kk = A[k, k]\n",
    "        a_ll = A[l, l]\n",
    "\n",
    "        # calculate the values of cos, sin, tan\n",
    "        tau = (a_ll - a_kk)/(2*A[k, l])\n",
    "\n",
    "        if tau > 0 \n",
    "            t = 1.0/(tau + sqrt(1 + tau*tau))\n",
    "        else\n",
    "            t = -1.0/(-tau + sqrt(1 + tau*tau))\n",
    "        end\n",
    "\n",
    "        c = 1.0/(sqrt(1 + t*t))\n",
    "        s = t*c\n",
    "\n",
    "        \n",
    "        # caculate the new off-diagonal elements\n",
    "        for i = 1:N\n",
    "            if i != k && i != l\n",
    "                a_ik = A[i, k]\n",
    "                a_il = A[i, l]\n",
    "                A[i, k] = c*a_ik - s*a_il\n",
    "                A[k, i] = A[i,k]\n",
    "                A[i, l] = c*a_il + s*a_ik\n",
    "                A[l, i] = A[i, l]\n",
    "            end\n",
    "\n",
    "            # iterate the eigenvectors\n",
    "            r_ik = R[i, k]\n",
    "            r_il = R[i, l]\n",
    "            R[i, k] = c*r_ik - s*r_il\n",
    "            R[i, l] = c*r_il + s*r_ik\n",
    "        end\n",
    "\n",
    "\n",
    "        # calulate the new diagonal elements, and set the maximum off-diagonal elements to zero\n",
    "        A[k, k] = c*c*a_kk - 2.0*c*s*A[k, l] + s*s*a_ll\n",
    "        A[l, l] = s*s*a_kk + 2.0*c*s*A[k, l] + c*c*a_ll\n",
    "        A[k, l] = 0.0\n",
    "        A[l, k] = 0.0\n",
    "\n",
    "        off_A = find_max(A)[1] # find the new maximum voff-diagonal value\n",
    "        counter += 1\n",
    "\n",
    "        # test orthogonality of new eigenvectors every 100 iterations\n",
    "        if (counter % 100 == 0)\n",
    "            for i = 1:N\n",
    "                for j = 1:N\n",
    "                    if i != j @test dot(R[:,i], R[:,j]) < epsilon end\n",
    "                end\n",
    "            end\n",
    "        end # end if\n",
    "\n",
    "    end # end of while\n",
    "    \n",
    "    # return a tuple with the eigenvalues, along with no. of transformations, and times\n",
    "    return (sort(diag(A)), eigvalss), counter, t_jacobi, t_linalg\n",
    "        \n",
    "end"
   ]
  },
  {
   "cell_type": "code",
   "execution_count": 9,
   "metadata": {
    "ExecuteTime": {
     "end_time": "2019-09-30T15:40:42.054000+02:00",
     "start_time": "2019-09-30T13:40:41.660Z"
    }
   },
   "outputs": [
    {
     "name": "stdout",
     "output_type": "stream",
     "text": [
      "Find max value test passed!\n"
     ]
    }
   ],
   "source": [
    "function test_max_value()\n",
    "    \"\"\"\n",
    "    A unit test for the max-value function. \n",
    "    Tests whether the find_max-function finds the correct off-diagonal maximum value.\n",
    "    \"\"\"\n",
    "    \n",
    "    # set up a 5x5 matrix with know values\n",
    "    A = Matrix{Float64}(undef, 5, 5)\n",
    "    for i = 1:5\n",
    "        for j = 1:5\n",
    "            if (i != j)\n",
    "                A[i, j] = i*j\n",
    "            end\n",
    "        end\n",
    "    end\n",
    "    \n",
    "    max_known = 4*5\n",
    "    max_func = find_max(A)[1] \n",
    "    epsilon = 1e-14 \n",
    "    \n",
    "    @test abs(max_known - max_func) < epsilon\n",
    "    println(\"Find max value test passed!\")\n",
    "end\n",
    "\n",
    "test_max_value()"
   ]
  },
  {
   "cell_type": "code",
   "execution_count": 4,
   "metadata": {
    "ExecuteTime": {
     "end_time": "2019-09-26T11:23:07.329000+02:00",
     "start_time": "2019-09-26T09:22:29.254Z"
    }
   },
   "outputs": [
    {
     "data": {
      "text/plain": [
       "\"dims = [4, 10, 50, 100, 200, 250, 300, 350, 400]      # matrix dimensions to test\\nnum_trans = zeros(Int64, length(dims)) # array for storing number of transformations\\nt = zeros(2, length(dims))             # array for storing the benchmark times\\nerror = zeros(Float64, length(dims))   # array for storing the error between the analytical and computed eigvals\\n\\n# initalize computed lambda values and number of transformation for each dimensionality\\nlambda_comp = 0\\nnum = 0\\n\\n\\nfor (i, d) in enumerate(dims)\\n    \\n    # construct the matrix and valculate the analytical eigenvalues\\n    A = create_matrix(d)\\n    lambda_an = [A[1] + 2*A[2]*cos(j*pi/(d+1)) for j = 1:d] \\n\\n    # take an average CPU time of 10 calculations\\n    for k = 1:10\\n        results = jacobi(A)\\n        num, t_jacobi, t_linalg = results[2:end]\\n\\n        t[1, i] += t_jacobi\\n        t[2, i] += t_linalg\\n\\n        # store the eigvals and number of transformations\\n        if k == 10\\n            lambda_comp = results[1][1]\\n        elseif k == 1 # for some reason the num variable is zero for all k != 1..\\n            num_trans[i] = num\\n        end\\n    end\\n\\n    # calculate the log10 of the maximum relative error\\n    error[i] = maximum(map(log10, map(abs, (lambda_comp .- lambda_an) ./ lambda_an)))\\n\\n    t[1, i] /= 10\\n    t[2, i] /= 10\\n\\nend\\n\\nprintln(\\\"Result:\\n----------------------------------\\\")\\nfor i = 1:length(dims)\\n    @printf(\\\"Dimensionality n = %d\\n\\\", dims[i])\\n    @printf(\\\"No. of transformations: %d\\n\\\", num_trans[i])\\n    @printf(\\\"log10 max error: %g\\n\\\", error[i])\\n    @printf(\\\"Jacobi time: %gms\\n\\\", t[1, i]*1e3)\\n    @printf(\\\"Julia time: %gms\\n\\\", t[2, i]*1e3)\\n    @printf(\\\"Jacobi time / Julia time: %g\\n\\\", t[1, i]/t[2, i])\\n    println()\\nend\""
      ]
     },
     "execution_count": 4,
     "metadata": {},
     "output_type": "execute_result"
    }
   ],
   "source": [
    "\"\"\" Performing the Jacobi method on matrices for increasingly larger dimension\"\"\"\n",
    "\n",
    "dims = [4, 10, 50, 100, 200, 250, 300, 350, 400]      # matrix dimensions to test\n",
    "num_trans = zeros(Int64, length(dims)) # array for storing number of transformations\n",
    "t = zeros(2, length(dims))             # array for storing the benchmark times\n",
    "error = zeros(Float64, length(dims))   # array for storing the error between the analytical and computed eigvals\n",
    "\n",
    "# initalize computed lambda values and number of transformation for each dimensionality\n",
    "lambda_comp = 0\n",
    "num = 0\n",
    "\n",
    "\n",
    "for (i, d) in enumerate(dims)\n",
    "    \n",
    "    # construct the matrix and valculate the analytical eigenvalues\n",
    "    A = create_matrix(d)\n",
    "    lambda_an = [A[1] + 2*A[2]*cos(j*pi/(d+1)) for j = 1:d] \n",
    "\n",
    "    # take an average CPU time of 10 calculations\n",
    "    for k = 1:10\n",
    "        results = jacobi(A)\n",
    "        num, t_jacobi, t_linalg = results[2:end]\n",
    "\n",
    "        t[1, i] += t_jacobi\n",
    "        t[2, i] += t_linalg\n",
    "\n",
    "        # store the eigvals and number of transformations\n",
    "        if k == 10\n",
    "            lambda_comp = results[1][1]\n",
    "        elseif k == 1 # for some reason the num variable is zero for all k != 1..\n",
    "            num_trans[i] = num\n",
    "        end\n",
    "    end\n",
    "\n",
    "    # calculate the log10 of the maximum relative error\n",
    "    error[i] = maximum(map(log10, map(abs, (lambda_comp .- lambda_an) ./ lambda_an)))\n",
    "\n",
    "    t[1, i] /= 10\n",
    "    t[2, i] /= 10\n",
    "\n",
    "end\n",
    "\n",
    "println(\"Result:\\n----------------------------------\")\n",
    "for i = 1:length(dims)\n",
    "    @printf(\"Dimensionality n = %d\\n\", dims[i])\n",
    "    @printf(\"No. of transformations: %d\\n\", num_trans[i])\n",
    "    @printf(\"log10 max error: %g\\n\", error[i])\n",
    "    @printf(\"Jacobi time: %gms\\n\", t[1, i]*1e3)\n",
    "    @printf(\"Julia time: %gms\\n\", t[2, i]*1e3)\n",
    "    @printf(\"Jacobi time / Julia time: %g\\n\", t[1, i]/t[2, i])\n",
    "    println()\n",
    "end"
   ]
  },
  {
   "cell_type": "code",
   "execution_count": 5,
   "metadata": {
    "ExecuteTime": {
     "end_time": "2019-09-26T11:23:07.363000+02:00",
     "start_time": "2019-09-26T09:22:29.260Z"
    }
   },
   "outputs": [
    {
     "data": {
      "text/plain": [
       "\"plot(dims, t[1,:] ./ t[2,:], xlabel=\\\"Matrix Order\\\", ylabel=\\\"Jacobi time/Julia time\\\", title=\\\"Relative benchmark difference\\\", legend=false)\\nsavefig(\\\"jacobi_over_julia.png\\\")\""
      ]
     },
     "execution_count": 5,
     "metadata": {},
     "output_type": "execute_result"
    }
   ],
   "source": [
    "# plotting\n",
    "\n",
    "plot(dims, t[1,:], xlabel=\"Matrix Order\", ylabel=\"Time [ms]\", title=\"Timing of the Jacobi method\", legend=false)\n",
    "scatter!(dims, t[1,:])\n",
    "savefig(\"jacobi_time.png\")\n",
    "\n",
    "plot(dims, t[2,:], xlabel=\"Matrix Order\", ylabel=\"Time [ms]\", title=\"Timing of the Julia eigenvalue solver\", legend=false)\n",
    "scatter!(dims, t[2,:])\n",
    "savefig(\"julia_time.png\")\n",
    "\n",
    "plot(dims, error, xlabel=\"Matrix Order\", ylabel=\"log10 error\", title=\"Maximum relative error of computed eigenvalues\", legend=false)\n",
    "scatter!(dims, error)\n",
    "savefig(\"jacobi_error.png\")\n",
    "\n",
    "plot(dims, t[1,:] ./ t[2,:], xlabel=\"Matrix Order\", ylabel=\"Jacobi time/Julia time\", title=\"Relative benchmark difference\", legend=false)\n",
    "savefig(\"jacobi_over_julia.png\")"
   ]
  },
  {
   "cell_type": "code",
   "execution_count": 6,
   "metadata": {
    "ExecuteTime": {
     "end_time": "2019-09-30T15:38:50.382000+02:00",
     "start_time": "2019-09-30T13:38:49.704Z"
    }
   },
   "outputs": [
    {
     "data": {
      "text/plain": [
       "create_quantum_matrix (generic function with 1 method)"
      ]
     },
     "execution_count": 6,
     "metadata": {},
     "output_type": "execute_result"
    }
   ],
   "source": [
    "function create_quantum_matrix(N::Int64, rho_max::Float64)\n",
    "    \"\"\"Create a matrix for the specialized quantum mechanics case\"\"\"\n",
    "    \n",
    "    h = rho_max/(N+1) # step size\n",
    "    d = 2.0/(h*h)     # diagonal elements (without the added potential)\n",
    "    a = -1.0/(h*h)    # super- and subdiagonal elements\n",
    "    \n",
    "    # initialize rho and the potential\n",
    "    rho = [i*h for i = 1:N]\n",
    "    V = [r*r for r in rho]\n",
    "    \n",
    "    # initialize the matrix\n",
    "    A = zeros(Float64, N, N)\n",
    "    \n",
    "    # set the value in the first row\n",
    "    A[1, 1] = d + V[1]\n",
    "    A[1, 2] = a\n",
    "    \n",
    "    # set the values in the middle matrix rows\n",
    "    for i = 2:N-1\n",
    "        A[i, i-1] = a\n",
    "        A[i, i+1] = a\n",
    "        A[i, i] = d + V[i]\n",
    "    end\n",
    "    \n",
    "    # set the values in the final row\n",
    "    A[N, N] = d + V[N]\n",
    "    A[N, N-1] = a\n",
    "    \n",
    "    # return the constructed matrix\n",
    "    return A\n",
    "    \n",
    "end\n"
   ]
  },
  {
   "cell_type": "code",
   "execution_count": 7,
   "metadata": {
    "ExecuteTime": {
     "end_time": "2019-09-30T15:40:06.308000+02:00",
     "start_time": "2019-09-30T13:39:33.594Z"
    }
   },
   "outputs": [],
   "source": [
    "\"\"\" analysis of the quantum case \"\"\"\n",
    "\n",
    "\n",
    "dims = [4, 10, 50, 100]      # matrix dimensions to test\n",
    "rho_max = [3., 5., 8., 10., 15., 20., 25.] # infinity approximations\n",
    "\n",
    "num_trans = zeros(Int64, length(dims)) # array for storing number of transformations\n",
    "t = zeros(2, length(dims))             # array for storing the benchmark times\n",
    "maxerror = zeros(Float64, length(dims), length(rho_max))   # array for storing the error between the analytical and computed eigvals\n",
    "\n",
    "# initalize computed lambda values and number of transformation for each dimensionality\n",
    "lambda_comp = 0\n",
    "num = 0\n",
    "\n",
    "for (i, d) in enumerate(dims)\n",
    "    lambda_an = [i for i = 3:4:4*d] \n",
    "    \n",
    "    for j = 1:length(rho_max)\n",
    "        Q = create_quantum_matrix(d, rho_max[j])\n",
    "        #results = jacobi(Q)\n",
    "\n",
    "\n",
    "        # take an average CPU time of 10 calculations\n",
    "        for k = 1:10\n",
    "            results = jacobi(Q)\n",
    "            num, t_jacobi, t_linalg = results[2:end]\n",
    "\n",
    "            t[1, i] += t_jacobi\n",
    "            t[2, i] += t_linalg\n",
    "\n",
    "            # store the eigvals and number of transformations\n",
    "            if k == 10\n",
    "                lambda_comp = results[1][1]\n",
    "            elseif k == 1 # for some reason the num variable is zero for all k != 1..\n",
    "                num_trans[i] = num\n",
    "            end\n",
    "        end # end k\n",
    "    \n",
    "\n",
    "        # calculate the log10 of the maximum relative error\n",
    "        maxerror[i, j] = maximum(map(log10, map(abs, (lambda_comp .- lambda_an) ./ lambda_an)))\n",
    "    end # end j\n",
    "    \n",
    "    t[1, i] /= 10\n",
    "    t[2, i] /= 10\n",
    "\n",
    "end # end i\n"
   ]
  },
  {
   "cell_type": "code",
   "execution_count": 14,
   "metadata": {
    "ExecuteTime": {
     "end_time": "2019-09-28T13:08:08.457000+02:00",
     "start_time": "2019-09-28T11:08:06.849Z"
    }
   },
   "outputs": [],
   "source": [
    "\"\"\" analysis of the quantum case \"\"\"\n",
    "\n",
    "\n",
    "dims = [4, 10, 50, 100, 400, 700]      # matrix dimensions to test\n",
    "rho_max = [3., 5., 8., 10., 15., 20., 25.] # infinity approximations\n",
    "\n",
    "num_trans = zeros(Int64, length(dims)) # array for storing number of transformations\n",
    "t = zeros(2, length(dims))             # array for storing the benchmark times\n",
    "maxerror = zeros(Float64, length(dims), length(rho_max))   # array for storing the error between the analytical and computed eigvals\n",
    "\n",
    "# initalize computed lambda values and number of transformation for each dimensionality\n",
    "lambda_comp = 0\n",
    "num = 0\n",
    "\n",
    "for (i, d) in enumerate(dims)\n",
    "    lambda_an = [i for i = 3:4:4*d] \n",
    "    \n",
    "    for j = 1:length(rho_max)\n",
    "        Q = create_quantum_matrix(d, rho_max[j])\n",
    "        lambda_comp = eigvals(Q)\n",
    "    \n",
    "\n",
    "        # calculate the log10 of the maximum relative error\n",
    "        maxerror[i, j] = maximum(map(log10, map(abs, (lambda_comp .- lambda_an) ./ lambda_an)))\n",
    "    end # end j\n",
    "\n",
    "end # end i\n",
    "\n"
   ]
  },
  {
   "cell_type": "code",
   "execution_count": 9,
   "metadata": {
    "ExecuteTime": {
     "end_time": "2019-09-26T11:23:09.999000+02:00",
     "start_time": "2019-09-26T09:22:29.291Z"
    }
   },
   "outputs": [
    {
     "data": {
      "text/plain": [
       "\"plot(rho_max, error[1,:], label=\\\"n = 4\\\", title=\\\"Error of computed eigenvalues as function of rho_max\\\", xlabel=\\\"rho_max\\\", ylabel=\\\"log10 max error\\\")\\nplot!(rho_max, error[2,:], label=\\\"n = 10\\\")\\nplot!(rho_max, error[3,:], label=\\\"n = 50\\\")\\nplot!(rho_max, error[4,:], label=\\\"n = 100\\\")\\nplot!(rho_max, error[5,:], label=\\\"n = 200\\\")\\nsavefig(\\\"quantum_eigvals.png\\\")\""
      ]
     },
     "execution_count": 9,
     "metadata": {},
     "output_type": "execute_result"
    }
   ],
   "source": [
    "#plotting\n",
    "\n",
    "plot(rho_max, error[1,:], label=\"n = 4\", title=\"Error of computed eigenvalues as function of rho_max\", xlabel=\"rho_max\", ylabel=\"log10 max error\")\n",
    "plot!(rho_max, error[2,:], label=\"n = 10\")\n",
    "plot!(rho_max, error[3,:], label=\"n = 50\")\n",
    "plot!(rho_max, error[4,:], label=\"n = 100\")\n",
    "plot!(rho_max, error[5,:], label=\"n = 200\")\n",
    "savefig(\"quantum_eigvals.png\")\n",
    "\n",
    "\n"
   ]
  },
  {
   "cell_type": "code",
   "execution_count": null,
   "metadata": {},
   "outputs": [],
   "source": []
  },
  {
   "cell_type": "code",
   "execution_count": 13,
   "metadata": {
    "ExecuteTime": {
     "end_time": "2019-09-30T16:09:46.923000+02:00",
     "start_time": "2019-09-30T14:09:46.305Z"
    }
   },
   "outputs": [
    {
     "data": {
      "text/plain": [
       "lanczos (generic function with 1 method)"
      ]
     },
     "execution_count": 13,
     "metadata": {},
     "output_type": "execute_result"
    }
   ],
   "source": [
    "function lanczos(A::Array)\n",
    "    \"\"\"A function for converting the input matrix A to a \n",
    "    tridiagonal matrix using the Lanczos algorithm\"\"\"\n",
    "    \n",
    "    n = size(A)[1] # input matrix order\n",
    "    \n",
    "    \"\"\"initial step\"\"\"\n",
    "    # set up an arbitrary vector with norm 1\n",
    "    v_old = zeros(Float64, n)\n",
    "    v_old[1] = 1\n",
    "    \n",
    "    w_old_mark = A*v_old\n",
    "    alpha_old = w_old_mark'*v_old\n",
    "    w_old = w_old_mark .- alpha_old*v_old\n",
    "    \n",
    "    alpha = zeros(Float64, n) # diagonal elements of resulting tridiagonal matrix\n",
    "    beta = zeros(Float64, n-1)        # sub and superdiagonal ----::-----\n",
    "    \n",
    "    alpha[1] = alpha_old\n",
    "    \n",
    "    \"\"\" remaining iterations \"\"\"\n",
    "    for j = 2:n\n",
    "        beta[j-1] = norm(w_old)\n",
    "        \n",
    "        if beta[j-1] > 1e-14\n",
    "            v_new = w_old ./ beta[j-1]\n",
    "        else\n",
    "            v_new = zeros(Float64, n)\n",
    "            v_new[j] = 1\n",
    "        end\n",
    "        \n",
    "        w_new_mark = A*v_new\n",
    "        alpha[j] = w_new_mark'*v_new\n",
    "        w_new = w_new_mark - alpha[j]*v_new - beta[j-1] .* v_old\n",
    "    end\n",
    "    \n",
    "    # construct the matrix as a symmetrical tridiagonal matrix\n",
    "    T = SymTridiagonal(alpha, beta)\n",
    "    \n",
    "    return T\n",
    "end"
   ]
  },
  {
   "cell_type": "code",
   "execution_count": 18,
   "metadata": {
    "ExecuteTime": {
     "end_time": "2019-09-28T13:18:30.872000+02:00",
     "start_time": "2019-09-28T11:18:19.288Z"
    }
   },
   "outputs": [
    {
     "name": "stdout",
     "output_type": "stream",
     "text": [
      "[62.3873, 0.0279001, 1.37876, 8.01691, 18.5211, 58.3649, 265.854, 704.323]\n",
      "[-13.8932, -13.6768, -12.541, -11.986, -11.7331, -11.4507, -11.309, -10.6578]\n"
     ]
    }
   ],
   "source": [
    "\"\"\" analysing lanczos algorithm \"\"\"\n",
    "\n",
    "dims = [4, 10, 50, 100, 200, 400, 700, 1000]\n",
    "\n",
    "times = zeros(Float64, length(dims))\n",
    "error = copy(times)\n",
    "lambda_comp = 0\n",
    "\n",
    "for (i, d) in enumerate(dims)\n",
    "    A = create_matrix(d)\n",
    "    lambda_an = [A[1] + 2*A[2]*cos(j*pi/(d+1)) for j = 1:d]\n",
    "    \n",
    "    for k = 1:10\n",
    "        \n",
    "        results = @timed eigen(lanczos(A))\n",
    "        times[i] += results[2]\n",
    "        lambda_comp = results[1].values\n",
    "        \n",
    "        \n",
    "    end\n",
    "    \n",
    "    error[i] = maximum(map(log10, map(abs, (lambda_comp .- lambda_an) ./ lambda_an)))\n",
    "    times[i] /= 10\n",
    "    \n",
    "end\n",
    "\n",
    "println(times .* 1000)\n",
    "#println(error)"
   ]
  },
  {
   "cell_type": "code",
   "execution_count": 27,
   "metadata": {
    "ExecuteTime": {
     "end_time": "2019-09-28T13:21:22.069000+02:00",
     "start_time": "2019-09-28T11:21:22.005Z"
    }
   },
   "outputs": [],
   "source": [
    "# plotting\n",
    "\n",
    "plot(dims, times, xlabel=\"Matrix Order\", ylabel=\"Time [s]\", title=\"Timing of Lanczos algorithm\", legend=false)\n",
    "scatter!(dims, times)\n",
    "savefig(\"lanczos.png\")\n",
    "\n",
    "plot(dims, error, xlabel=\"Matrix Order\", ylabel=\"log10 Maximum erorr\", title=\"Error of Lanczos algorithm\", legend=false)\n",
    "scatter!(dims, error)\n",
    "savefig(\"lanczos_error.png\")"
   ]
  },
  {
   "cell_type": "code",
   "execution_count": 8,
   "metadata": {
    "ExecuteTime": {
     "end_time": "2019-09-30T15:40:33.664000+02:00",
     "start_time": "2019-09-30T13:40:31.703Z"
    }
   },
   "outputs": [
    {
     "name": "stdout",
     "output_type": "stream",
     "text": [
      "N = 100\n",
      "Normal matrix time: 0.0084091\n",
      "SymTridiagonal matrix time: 0.0378141\n",
      "Speedup: 0.22238001168876156\n",
      "\n",
      "N = 200\n",
      "Normal matrix time: 0.016525301\n",
      "SymTridiagonal matrix time: 0.0007807\n",
      "Speedup: 21.16728705008326\n",
      "\n",
      "N = 400\n",
      "Normal matrix time: 0.062590799\n",
      "SymTridiagonal matrix time: 0.0031843\n",
      "Speedup: 19.656062242879127\n",
      "\n",
      "N = 800\n",
      "Normal matrix time: 0.197830801\n",
      "SymTridiagonal matrix time: 0.0116694\n",
      "Speedup: 16.95295396507104\n",
      "\n",
      "N = 1600\n",
      "Normal matrix time: 0.8893798\n",
      "SymTridiagonal matrix time: 0.046188301\n",
      "Speedup: 19.255521003034946\n",
      "\n"
     ]
    }
   ],
   "source": [
    "\"\"\" Comparing the eigenvalue solver for a SymTridiagonal matrix \"\"\"\n",
    "\n",
    "dimss = [100, 200, 400, 800, 1600] # matrix orders\n",
    "\n",
    "for d in dimss\n",
    "    A = create_matrix(d)\n",
    "    a = [A[2] for i in 1:d-1] # create array of super- and subdiagonal elements\n",
    "    D = [A[1] for i in 1:d] # diagonal elements\n",
    "    \n",
    "    A_tri = SymTridiagonal(D, a) # construct the matrix as a type SymTridiagonal\n",
    "    \n",
    "    # perform the eigenvalue computations and time them\n",
    "    time_norm = @elapsed eigvals(A)\n",
    "    time_tri = @elapsed(eigvals(A_tri))\n",
    "    \n",
    "    println(\"N = $(d)\")\n",
    "    println(\"Normal matrix time: $(time_norm)\")\n",
    "    println(\"SymTridiagonal matrix time: $(time_tri)\")\n",
    "    println(\"Speedup: $(time_norm/time_tri)\")\n",
    "    println()\n",
    "end"
   ]
  },
  {
   "cell_type": "code",
   "execution_count": null,
   "metadata": {},
   "outputs": [],
   "source": []
  }
 ],
 "metadata": {
  "kernelspec": {
   "display_name": "Julia 1.1.1",
   "language": "julia",
   "name": "julia-1.1"
  },
  "language_info": {
   "file_extension": ".jl",
   "mimetype": "application/julia",
   "name": "julia",
   "version": "1.1.1"
  },
  "toc": {
   "base_numbering": 1,
   "nav_menu": {},
   "number_sections": false,
   "sideBar": true,
   "skip_h1_title": false,
   "title_cell": "Table of Contents",
   "title_sidebar": "Contents",
   "toc_cell": false,
   "toc_position": {},
   "toc_section_display": true,
   "toc_window_display": true
  },
  "varInspector": {
   "cols": {
    "lenName": 16,
    "lenType": 16,
    "lenVar": 40
   },
   "kernels_config": {
    "python": {
     "delete_cmd_postfix": "",
     "delete_cmd_prefix": "del ",
     "library": "var_list.py",
     "varRefreshCmd": "print(var_dic_list())"
    },
    "r": {
     "delete_cmd_postfix": ") ",
     "delete_cmd_prefix": "rm(",
     "library": "var_list.r",
     "varRefreshCmd": "cat(var_dic_list()) "
    }
   },
   "types_to_exclude": [
    "module",
    "function",
    "builtin_function_or_method",
    "instance",
    "_Feature"
   ],
   "window_display": false
  }
 },
 "nbformat": 4,
 "nbformat_minor": 2
}
