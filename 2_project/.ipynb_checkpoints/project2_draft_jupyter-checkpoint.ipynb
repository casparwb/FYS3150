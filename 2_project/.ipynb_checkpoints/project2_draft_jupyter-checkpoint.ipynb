{
 "cells": [
  {
   "cell_type": "markdown",
   "metadata": {},
   "source": [
    "# a: Mathematical intermezzo\n",
    "\n",
    "Basis of vector $\\vec{v}_i$:\n",
    "\n",
    "$$\\vec{v}_i = \\begin{bmatrix} v_{i1} \\\\ \\vdots \\\\ \\vdots \\\\ v_{in} \\end{bmatrix}$$\n",
    "\n",
    "Where the basis is orthogonal, i.e.:\n",
    "\n",
    "$$\\vec{v}_j^T\\vec{v}_i = \\delta_{ij}$$\n",
    "\n",
    "SHow that an orthogonal or unitary transformation\n",
    "\n",
    "$$\\vec{w}_i = U\\vec{v}_i$$"
   ]
  },
  {
   "cell_type": "markdown",
   "metadata": {},
   "source": [
    "dot product $w_i^T w_i$:\n",
    "\n",
    "$$w_i^T w_i = Uv_i^T Uv_i$$"
   ]
  },
  {
   "cell_type": "code",
   "execution_count": 1,
   "metadata": {},
   "outputs": [],
   "source": [
    "#using Plots\n",
    "using LinearAlgebra\n",
    "using Test"
   ]
  },
  {
   "cell_type": "code",
   "execution_count": 2,
   "metadata": {},
   "outputs": [
    {
     "name": "stdout",
     "output_type": "stream",
     "text": [
      "\u001b[37m\u001b[1mTest Summary: | \u001b[22m\u001b[39m\u001b[32m\u001b[1mPass  \u001b[22m\u001b[39m\u001b[36m\u001b[1mTotal\u001b[22m\u001b[39m\n",
      "Eigenvalues   | \u001b[32m  10  \u001b[39m\u001b[36m   10\u001b[39m\n",
      "Test with N = 10 successful!\n"
     ]
    }
   ],
   "source": [
    "function eigenvalue_test(N::Int64)\n",
    "    # setting up and diagonalizing a matrix\n",
    "    \n",
    "    h = 1.0/N    # step size\n",
    "    a = -1.0/h^2 # sub- and superdiagonal elements\n",
    "    d = 2.0/h^2  # diagonal elements\n",
    "\n",
    "\n",
    "    A = Matrix{Float64}(undef, N, N)\n",
    "    for i = 1:N\n",
    "        for j = 1:N\n",
    "            if (j == i-1) || (j == i+1)\n",
    "                A[i, j] = a\n",
    "            elseif (j == i)\n",
    "                A[i, j] = d\n",
    "            else\n",
    "                A[i, j] = 0\n",
    "            end\n",
    "        end\n",
    "    end\n",
    "    \n",
    "    A = Symmetric(A)\n",
    "    \n",
    "    lambda_num = eigvals(A) # numerical eigenvales\n",
    "    lambda_an = [d + 2*a*cos(j*pi/(N+1)) for j = 1:N] # analytical eigenvalues\n",
    "    \n",
    "    epsilon = 1e-10 # \n",
    "    @testset \"Eigenvalues\" begin\n",
    "        for i = 1:N @test abs(lambda_an[i] - lambda_num[i]) < epsilon end\n",
    "    end\n",
    "    \n",
    "    println(\"Test with N = $(N) successful!\")\n",
    "end\n",
    "\n",
    "eigenvalue_test(10)"
   ]
  },
  {
   "cell_type": "code",
   "execution_count": 3,
   "metadata": {},
   "outputs": [
    {
     "data": {
      "text/plain": [
       "jacobi (generic function with 1 method)"
      ]
     },
     "execution_count": 3,
     "metadata": {},
     "output_type": "execute_result"
    }
   ],
   "source": [
    "\"\"\" Implementing the Jacobi Method \"\"\"\n",
    "\n",
    "function find_max(A)\n",
    "    \"\"\"Find the maximum value of the non-diagonal elements\"\"\"\n",
    "    \n",
    "    N = size(A)[1]\n",
    "   \n",
    "    max = 0\n",
    "    k = 0 \n",
    "    l = 0\n",
    "    for i = 1:N\n",
    "        for j = 1:N\n",
    "            if j != i && abs(A[i, j]) > abs(max)\n",
    "                max = A[i, j]\n",
    "                k = i\n",
    "                l = j\n",
    "            end\n",
    "        end\n",
    "    end\n",
    "    \n",
    "    return max, k, l\n",
    "    \n",
    "end\n",
    "\n",
    "\n",
    "function create_matrix(N::Int64, quantum=false)\n",
    "    \"\"\"Function for setting up a tridiagonal, symmetric matrix\"\"\"\n",
    "    \n",
    "    h = 1.0/N    # step size\n",
    "    a = -1.0/h^2 # sub- and superdiagonal elements\n",
    "    d = 2.0/h^2  # diagonal elements\n",
    "    \n",
    "    # set up and initialize the matrix    \n",
    "    A = zeros(Float64, N, N)\n",
    "    \n",
    "    A[1, 1] = d\n",
    "    A[1, 2] = a\n",
    "    \n",
    "    for i = 2:N-1\n",
    "        A[i, i-1] = a\n",
    "        A[i, i+1] = a\n",
    "        A[i, i] = d\n",
    "    end\n",
    "    \n",
    "    A[N, N] = d\n",
    "    A[N, N-1] = a\n",
    "    \n",
    "    return A\n",
    "    \n",
    "end\n",
    "\n",
    "function jacobi(A::Matrix)\n",
    "    \n",
    "    N = size(A)[1] # extract the dimension of A\n",
    "\n",
    "    # matrix for storing the eigenvectors of A\n",
    "    R = Matrix{Float64}(I, N, N)   \n",
    "    \n",
    "    epsilon = 1e-8 # convergence threshold\n",
    "    off_A = find_max(A)[1] # initial maximum value of non-diagonal elements\n",
    "    \n",
    "    max_iters = N*N*N\n",
    "    counter = 0\n",
    "    \n",
    "    \"\"\"Use the built-in functions for calculating the eigenvalues and vectors of A, and time it\"\"\"\n",
    "    julia_eig = @timed eigen(A)\n",
    "    t_linalg = julia_eig[2]\n",
    "    eigvalss = julia_eig[1].values\n",
    "    \n",
    "    \"\"\"Perform the Jacobi method and time it\"\"\"\n",
    "\n",
    "    t_jacobi = @elapsed while abs(off_A) > epsilon && counter < max_iters\n",
    "\n",
    "        # find maximum of non-diagonal elements and their indices\n",
    "        max, k, l = find_max(A) \n",
    "        \n",
    "\n",
    "        a_kk = A[k, k]\n",
    "        a_ll = A[l, l]\n",
    "\n",
    "        # calculate the values of cos, sin, tan\n",
    "        tau = (a_ll - a_kk)/(2*A[k, l])\n",
    "\n",
    "        if tau > 0 \n",
    "            t = 1.0/(tau + sqrt(1 + tau*tau))\n",
    "        else\n",
    "            t = -1.0/(-tau + sqrt(1 + tau*tau))\n",
    "        end\n",
    "\n",
    "        c = 1.0/(sqrt(1 + t*t))\n",
    "        s = t*c\n",
    "\n",
    "\n",
    "        for i = 1:N\n",
    "            if i != k && i != l\n",
    "                a_ik = A[i, k]\n",
    "                a_il = A[i, l]\n",
    "                A[i, k] = c*a_ik - s*a_il\n",
    "                A[k, i] = A[i,k]\n",
    "                A[i, l] = c*a_il + s*a_ik\n",
    "                A[l, i] = A[i, l]\n",
    "            end\n",
    "\n",
    "            # iterate the eigenvectors\n",
    "            r_ik = R[i, k]\n",
    "            r_il = R[i, l]\n",
    "            R[i, k] = c*r_ik - s*r_il\n",
    "            R[i, l] = c*r_il + s*r_ik\n",
    "        end\n",
    "\n",
    "\n",
    "        # calulate the new diagonals, and hard-code the relevant off-diags to zero\n",
    "        A[k, k] = c*c*a_kk - 2.0*c*s*A[k, l] + s*s*a_ll\n",
    "        A[l, l] = s*s*a_kk + 2.0*c*s*A[k, l] + c*c*a_ll\n",
    "        A[k, l] = 0.0\n",
    "        A[l, k] = 0.0\n",
    "\n",
    "        off_A = find_max(A)[1]\n",
    "        counter += 1\n",
    "\n",
    "        # test orthogonality of new eigenvectors every 100 iterations\n",
    "        if (counter % 100 == 0)\n",
    "            for i = 1:N\n",
    "                for j = 1:N\n",
    "                    if i != j @test dot(R[:,i], R[:,j]) < epsilon end\n",
    "                end\n",
    "            end\n",
    "        end # end if\n",
    "\n",
    "    end # end of while\n",
    "    \n",
    "    # return a tuple with the eigenvalyes, along with no. of transformations, and times\n",
    "    return (sort(diag(A)), eigvalss), counter, t_jacobi, t_linalg\n",
    "        \n",
    "end\n"
   ]
  },
  {
   "cell_type": "code",
   "execution_count": 4,
   "metadata": {},
   "outputs": [
    {
     "name": "stdout",
     "output_type": "stream",
     "text": [
      "n = 4\n",
      "# transformations: 6\n",
      "log10 max error: -15.132851170897386\n",
      "Jacobi Algorithm time: 6.501e-7\n",
      "Eigen time: 0.028745370599999993\n",
      "Jacobi time / Eigen time: 2.2615815570664452e-5\n",
      "\n",
      "n = 10\n",
      "# transformations: 153\n",
      "log10 max error: -14.755940159070587\n",
      "Jacobi Algorithm time: 2.332e-5\n",
      "Eigen time: 0.0007705601000000001\n",
      "Jacobi time / Eigen time: 0.030263700391442532\n",
      "\n",
      "n = 50\n",
      "# transformations: 4316\n",
      "log10 max error: -14.015893961294477\n",
      "Jacobi Algorithm time: 0.022540750100000007\n",
      "Eigen time: 0.0084774601\n",
      "Jacobi time / Eigen time: 2.6589037086709504\n",
      "\n",
      "n = 100\n",
      "# transformations: 17663\n",
      "log10 max error: -12.922510781029182\n",
      "Jacobi Algorithm time: 0.3564059401\n",
      "Eigen time: 0.0201363497\n",
      "Jacobi time / Eigen time: 17.69963004267849\n",
      "\n"
     ]
    }
   ],
   "source": [
    "\n",
    "function analyse_jacobi()\n",
    "    dims = [4, 10, 50, 100]      # matrix dimensions to test\n",
    "    num_trans = zeros(Int64, length(dims)) # array for storing number of transformations\n",
    "    t = zeros(2, length(dims))             # array for storing the benchmark timed\n",
    "    error = zeros(Float64, length(dims))   # array for storing the error between the analytical and computed eigvals\n",
    "    \n",
    "    lambda_comp = 0\n",
    "    num = 0\n",
    "    \n",
    "    \n",
    "    for (i, d) in enumerate(dims)\n",
    "        A = create_matrix(d)\n",
    "        lambda_an = [A[1] + 2*A[2]*cos(j*pi/(d+1)) for j = 1:d]  # analytical eigenvalues\n",
    "\n",
    "        # take an average CPU time of 10 calculations\n",
    "        for k = 1:10\n",
    "            results = jacobi(A)\n",
    "            num, t_jacobi, t_linalg = results[2:end]\n",
    "            \n",
    "            t[1, i] += t_jacobi\n",
    "            t[2, i] += t_linalg\n",
    "            \n",
    "            # store the eigvals and number of transformations\n",
    "            if k == 10\n",
    "                lambda_comp = results[1][1]\n",
    "            elseif k == 1 # for some reason the num variable is zero for all k != 1..\n",
    "                num_trans[i] = num\n",
    "            end\n",
    "        end\n",
    "        \n",
    "        # calculate the maximum relative error\n",
    "        error[i] = maximum(map(log10, map(abs, (lambda_comp .- lambda_an) ./ lambda_an)))\n",
    "        \n",
    "        t[1, i] /= 10\n",
    "        t[2, i] /= 10\n",
    "        \n",
    "    end\n",
    "    \n",
    "    for i = 1:length(dims)\n",
    "        println(\"n = $(dims[i])\")\n",
    "        println(\"# transformations: $(num_trans[i])\")\n",
    "        println(\"log10 max error: $(error[i])\")\n",
    "        println(\"Jacobi Algorithm time: $(t[1, i])\")\n",
    "        println(\"Eigen time: $(t[2,i])\")\n",
    "        println(\"Jacobi time / Eigen time: $(t[1, i]/t[2, i])\")\n",
    "        println()\n",
    "    end\n",
    "end\n",
    "\n",
    "analyse_jacobi()"
   ]
  },
  {
   "cell_type": "markdown",
   "metadata": {},
   "source": [
    "# c: implementing tests in the code"
   ]
  },
  {
   "cell_type": "code",
   "execution_count": 7,
   "metadata": {},
   "outputs": [
    {
     "data": {
      "text/plain": [
       "\u001b[32m\u001b[1mTest Passed\u001b[22m\u001b[39m"
      ]
     },
     "execution_count": 7,
     "metadata": {},
     "output_type": "execute_result"
    }
   ],
   "source": [
    "function test_max_value()\n",
    "    \"\"\"\n",
    "    A unit test for the max-value function. \n",
    "    Tests whether the find_max-function finds the correct off-diagonal maximum value.\n",
    "    \"\"\"\n",
    "    \n",
    "    # set up a 5x5 matrix with know values\n",
    "    A = Matrix{Float64}(undef, 5, 5)\n",
    "    for i = 1:5\n",
    "        for j = 1:5\n",
    "            if (i != j)\n",
    "                A[i, j] = i*j\n",
    "            else \n",
    "                A[i, j] = 0\n",
    "            end\n",
    "        end\n",
    "    end\n",
    "    \n",
    "    max_known = 4*5\n",
    "    max_func = find_max(A)[1] \n",
    "    epsilon = 1e-14 \n",
    "    \n",
    "    @test abs(max_known - max_func) < epsilon\n",
    "    #println(\"Find max value test passed!\")\n",
    "end\n",
    "\n",
    "test_max_value()"
   ]
  },
  {
   "cell_type": "markdown",
   "metadata": {},
   "source": [
    "# e: extending our machinery to quantum mechanics\n",
    "\n",
    "To extend our machinery to quantum mechanics, we simply need to construct a different matrix to diagonalize"
   ]
  },
  {
   "cell_type": "code",
   "execution_count": 125,
   "metadata": {},
   "outputs": [
    {
     "data": {
      "text/plain": [
       "create_quantum_matrix (generic function with 1 method)"
      ]
     },
     "execution_count": 125,
     "metadata": {},
     "output_type": "execute_result"
    }
   ],
   "source": [
    "function create_quantum_matrix(N::Int64, rho_max::Float64)\n",
    "    \"\"\"Create a matrix for the specialized quantum mechanics case\"\"\"\n",
    "    \n",
    "    h = rho_max/(N+1) # step size\n",
    "    d = 2.0/(h*h)     # diagonal elements (without the added potential)\n",
    "    a = -1.0/(h*h)    # super- and subdiagonal elements\n",
    "    \n",
    "    # initialize rho and the potential\n",
    "    rho = [i*h for i = 1:N]\n",
    "    V = [r*r for r in rho]\n",
    "    \n",
    "    # initialize the matrix\n",
    "    A = zeros(Float64, N, N)\n",
    "    \n",
    "    A[1, 1] = d + V[1]\n",
    "    A[1, 2] = a\n",
    "    \n",
    "    for i = 2:N-1\n",
    "        A[i, i-1] = a\n",
    "        A[i, i+1] = a\n",
    "        A[i, i] = d + V[i]\n",
    "    end\n",
    "    \n",
    "    A[N, N] = d + V[N]\n",
    "    A[N, N-1] = a\n",
    "    return A\n",
    "    \n",
    "end\n"
   ]
  },
  {
   "cell_type": "code",
   "execution_count": null,
   "metadata": {},
   "outputs": [],
   "source": [
    "# analysing the quantum case\n",
    "\n",
    "dims = [4, 10, 50, 100, 200]\n",
    "rho_max = [3, 5, 8, 10, 15, 20, 25]\n",
    "\n",
    "error = zeros(Float64, length(dims), length(rho_max))\n",
    "times_jacobi = copy(error)\n",
    "times_julia = copy(error)\n",
    "num_trans = copy(error)\n",
    "\n",
    "eig_exact = [3, 7, 11, 15]\n",
    "for (i, d) in enumerate(dims)\n",
    "\n",
    "    for j in 1:length(rho_max)\n",
    "        Q = create_quantum_matrix(d, rho_max[j])\n",
    "        eigs, num_trans[i,j], times_jacobi[i, j], times_julia[i, j] = jacobi(Q)\n",
    "        \n",
    "        eigs = eigs[1][1:4]\n",
    "        error[i, j] = sum(map(abs, (eigs .- eig_exact)))\n",
    "    end\n",
    "end\n",
    "\n"
   ]
  },
  {
   "cell_type": "code",
   "execution_count": 34,
   "metadata": {},
   "outputs": [
    {
     "data": {
      "text/plain": [
       "10-element Array{Float64,1}:\n",
       " 100.00000000291038\n",
       " 100.00000000291038\n",
       " 100.00000000291038\n",
       " 116.91699740185868\n",
       " 171.5370323479874 \n",
       " 228.4629676520126 \n",
       " 283.0830025981413 \n",
       " 299.9999999970896 \n",
       " 299.9999999970896 \n",
       " 299.9999999970896 "
      ]
     },
     "execution_count": 34,
     "metadata": {},
     "output_type": "execute_result"
    }
   ],
   "source": [
    "function bisect(c::Array, b::Array)\n",
    "    \"\"\"A function for calculating the eigen values of a symmetrical,\n",
    "    tridiagonal matrix by method of bisection.\n",
    "    \n",
    "    c : array for diagonal elements\n",
    "    b : array for subdiagonal elements\n",
    "    \"\"\"\n",
    "    \n",
    "    n = length(c) # order of the tridiagonal matrix\n",
    "    \n",
    "    beta = [b[i]*b[i] for i = 1:n] # array for storing the squares of the sub-diagonal elements\n",
    "    \n",
    "    x = zeros(Float64, n) # array for storing the computed eigenvalues\n",
    "    \n",
    "    eps1 = 1e-8      # precision of computed eigenvalues\n",
    "    eps2 = 0         # accuracy of the results\n",
    "    relhef = 1e-17   # machine precision\n",
    "    \n",
    "    \n",
    "    \"\"\"begin procedure\"\"\"\n",
    "    \n",
    "    # calculation of xmin, xmax\n",
    "    xmin = c[n] - abs(b[n])\n",
    "    xmax = c[n] + abs(b[n])\n",
    "    \n",
    "    for i = n-1:-1:1\n",
    "        h = abs(b[i] + abs(b[i+1]))\n",
    "        if (c[i] + h > xmax) xmax = c[i] + h end\n",
    "        if (c[i] - h < xmin) xmin = c[i] - h end\n",
    "    end # end i\n",
    "    \n",
    "    eps2 = relhef*(if xmin + xmax > 0 xmax else xmin end)\n",
    "    if eps1 <= 0 eps1 = eps2 end\n",
    "    eps2 = 0.5*eps1 + 7*eps2\n",
    "    \n",
    "    # inner block\n",
    "    a = 0; k = 0\n",
    "    q = 0.0; x1 = 0.0; xu = 0.0; x0 = 0.0\n",
    "    wu = copy(x)\n",
    "    \n",
    "    x0 = xmax\n",
    "    for i = 1:n\n",
    "        x[i] = xmax\n",
    "        wu[i] = xmin\n",
    "    end # end i\n",
    "    z = 0\n",
    "    \n",
    "    # loop for the k-th eigenvalue\n",
    "    \n",
    "    for k = n:-1:1\n",
    "        xu = xmin\n",
    "        for i = k:-1:1\n",
    "            if (xu < wu[i]) xu = wu[i] end\n",
    "        end # end i\n",
    "        \n",
    "        if (x0 > x[k]) x0 = x[k] end\n",
    "        x1 = (xu + x0)/2\n",
    "        while (x0 - xu) > (2*relhef*(abs(xu) + abs(x0)) + eps1) #&& z < n*n\n",
    "            x1 = (xu + x0)/2\n",
    "            z += 1\n",
    "            \n",
    "            a = 0; q = 1\n",
    "            for i = 1:n\n",
    "                q = c[i] - x1 - (if q != 0 beta[i]/q else abs(b[i])/relhef end)\n",
    "                if q < 0 a += 1 end\n",
    "                \n",
    "                end # end i\n",
    "            \n",
    "            if a < k\n",
    "                if a < 1\n",
    "                    wu[1] = x1\n",
    "                    xu = wu[1]\n",
    "                else\n",
    "                    wu[a+1] = x1\n",
    "                    xu = wu[a+1]\n",
    "                    if x[a] > x1 x[a] = x1 end\n",
    "                end\n",
    "            else\n",
    "                x0  = x1\n",
    "            end\n",
    "         \n",
    "        end # end while\n",
    "        x[k] = (x0 + xu)/2\n",
    "    end # end k\n",
    "    \n",
    "    return x\n",
    "    \n",
    "end # end of function\n",
    "\n",
    "    \n",
    "    \n",
    "\n",
    "\n",
    "a = [200 for i=1:10]\n",
    "b = [-100 for i=1:10]\n",
    "b[1] = 0\n",
    "\n",
    "bisect(a, b)"
   ]
  },
  {
   "cell_type": "code",
   "execution_count": 33,
   "metadata": {},
   "outputs": [
    {
     "data": {
      "text/plain": [
       "10-element Array{Float64,1}:\n",
       "   8.101405277100511\n",
       "  31.749293433763768\n",
       "  69.02785321094292 \n",
       " 116.91699739962272 \n",
       " 171.53703234534268 \n",
       " 228.462967654657   \n",
       " 283.08300260037737 \n",
       " 330.972146789057   \n",
       " 368.25070656623626 \n",
       " 391.89859472289965 "
      ]
     },
     "execution_count": 33,
     "metadata": {},
     "output_type": "execute_result"
    }
   ],
   "source": [
    "jacobi(create_matrix(10))[1][1]"
   ]
  },
  {
   "cell_type": "code",
   "execution_count": 30,
   "metadata": {},
   "outputs": [
    {
     "name": "stdout",
     "output_type": "stream",
     "text": [
      " 85.870299 seconds (19 allocations: 766.526 MiB, 0.07% gc time)\n",
      "  1.589166 seconds (12 allocations: 313.000 KiB)\n"
     ]
    }
   ],
   "source": [
    "# comparing Julia's eigenvalue solver for a normal, sparse matrix and for a symmetrical tridiagonal solverT\n",
    "\n",
    "A = create_matrix(10000)\n",
    "@time eigvals(A);\n",
    "\n",
    "d = A[1]\n",
    "e = A[2]\n",
    "\n",
    "dv = [d for i = 1:size(A)[1]]\n",
    "ev = [e for i = 1:size(A)[1]-1]\n",
    "\n",
    "A_tri = SymTridiagonal(dv, ev)\n",
    "\n",
    "@time eigvals(A_tri);"
   ]
  },
  {
   "cell_type": "markdown",
   "metadata": {},
   "source": [
    "# Lanczos' algorithm\n",
    "\n"
   ]
  },
  {
   "cell_type": "code",
   "execution_count": 26,
   "metadata": {},
   "outputs": [
    {
     "data": {
      "text/plain": [
       "lanczos (generic function with 2 methods)"
      ]
     },
     "execution_count": 26,
     "metadata": {},
     "output_type": "execute_result"
    }
   ],
   "source": [
    "function lanczos(A::Array)\n",
    "    \"\"\"A function for converting the input matrix A to a \n",
    "    tridiagonal matrix using the Lanczos algorithm\"\"\"\n",
    "    \n",
    "    n = size(A)[1] # input matrix order\n",
    "    \n",
    "    \"\"\"initial step\"\"\"\n",
    "    # set up an arbitrary vector with norm 1\n",
    "    v_old = zeros(Float64, n)\n",
    "    v_old[1] = 1\n",
    "    \n",
    "    w_old_mark = A*v_old\n",
    "    alpha_old = w_old_mark'*v_old\n",
    "    w_old = w_old_mark .- alpha_old*v_old\n",
    "    \n",
    "    alpha = zeros(Float64, n) # diagonal elements of resulting tridiagonal matrix\n",
    "    beta = zeros(Float64, n-1)        # sub and superdiagonal ----::-----\n",
    "    \n",
    "    alpha[1] = alpha_old\n",
    "    \n",
    "    \"\"\" remaining iterations \"\"\"\n",
    "    for j = 2:n\n",
    "        beta[j-1] = norm(w_old)\n",
    "        \n",
    "        if beta[j-1] > 1e-14\n",
    "            v_new = w_old ./ beta[j-1]\n",
    "        else\n",
    "            v_new = zeros(Float64, n)\n",
    "            v_new[j] = 1\n",
    "        end\n",
    "        \n",
    "        w_new_mark = A*v_new\n",
    "        alpha[j] = w_new_mark'*v_new\n",
    "        w_new = w_new_mark - alpha[j]*v_new - beta[j-1] .* v_old\n",
    "    end\n",
    "    \n",
    "    # construct the matrix as a symmetrical tridiagonal matrix\n",
    "    T = SymTridiagonal(alpha, beta)\n",
    "    \n",
    "    return T\n",
    "end"
   ]
  },
  {
   "cell_type": "code",
   "execution_count": 35,
   "metadata": {},
   "outputs": [
    {
     "name": "stdout",
     "output_type": "stream",
     "text": [
      "  0.702081 seconds (6.00 k allocations: 46.509 MiB, 1.35% gc time)\n",
      "  0.018172 seconds (9 allocations: 31.891 KiB)\n"
     ]
    }
   ],
   "source": [
    "A = create_matrix(1000)\n",
    "T = @time lanczos(A)\n",
    "\n",
    "@time eigvals(T);"
   ]
  },
  {
   "cell_type": "code",
   "execution_count": null,
   "metadata": {},
   "outputs": [],
   "source": []
  }
 ],
 "metadata": {
  "kernelspec": {
   "display_name": "Julia 1.1.1",
   "language": "julia",
   "name": "julia-1.1"
  },
  "language_info": {
   "file_extension": ".jl",
   "mimetype": "application/julia",
   "name": "julia",
   "version": "1.1.1"
  },
  "toc": {
   "base_numbering": 1,
   "nav_menu": {},
   "number_sections": true,
   "sideBar": true,
   "skip_h1_title": false,
   "title_cell": "Table of Contents",
   "title_sidebar": "Contents",
   "toc_cell": false,
   "toc_position": {},
   "toc_section_display": true,
   "toc_window_display": false
  },
  "varInspector": {
   "cols": {
    "lenName": 16,
    "lenType": 16,
    "lenVar": 40
   },
   "kernels_config": {
    "python": {
     "delete_cmd_postfix": "",
     "delete_cmd_prefix": "del ",
     "library": "var_list.py",
     "varRefreshCmd": "print(var_dic_list())"
    },
    "r": {
     "delete_cmd_postfix": ") ",
     "delete_cmd_prefix": "rm(",
     "library": "var_list.r",
     "varRefreshCmd": "cat(var_dic_list()) "
    }
   },
   "types_to_exclude": [
    "module",
    "function",
    "builtin_function_or_method",
    "instance",
    "_Feature"
   ],
   "window_display": false
  }
 },
 "nbformat": 4,
 "nbformat_minor": 2
}
