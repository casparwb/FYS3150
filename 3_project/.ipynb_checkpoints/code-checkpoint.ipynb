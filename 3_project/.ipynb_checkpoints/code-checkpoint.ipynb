{
 "cells": [
  {
   "cell_type": "code",
   "execution_count": 1,
   "metadata": {
    "ExecuteTime": {
     "end_time": "2019-10-18T10:28:43.914000+02:00",
     "start_time": "2019-10-18T08:27:31.301Z"
    }
   },
   "outputs": [],
   "source": [
    "using Distributed\n",
    "using PyPlot\n",
    "using LinearAlgebra\n",
    "using Test\n",
    "using Random\n",
    "#using FastGaussQuadrature\n",
    "using GaussQuadrature\n",
    "using Statistics\n",
    "using JLD\n",
    "import Seaborn; const sn = Seaborn\n",
    "const exact = 5*pi*pi/(16*16);"
   ]
  },
  {
   "cell_type": "markdown",
   "metadata": {},
   "source": [
    "# Tests"
   ]
  },
  {
   "cell_type": "code",
   "execution_count": 2,
   "metadata": {
    "ExecuteTime": {
     "end_time": "2019-10-18T10:32:07.912000+02:00",
     "start_time": "2019-10-18T08:31:53.703Z"
    }
   },
   "outputs": [
    {
     "name": "stdout",
     "output_type": "stream",
     "text": [
      "\u001b[37m\u001b[1mTest Summary: | \u001b[22m\u001b[39m\u001b[32m\u001b[1mPass  \u001b[22m\u001b[39m\u001b[36m\u001b[1mTotal\u001b[22m\u001b[39m\n",
      "test set      | \u001b[32m   6  \u001b[39m\u001b[36m    6\u001b[39m\n",
      "Legendre module test successful\n"
     ]
    }
   ],
   "source": [
    "function test_legendre()\n",
    "    N = 5\n",
    "    \n",
    "    x_leg, w_leg = legendre(N)\n",
    "    w_leg = w_leg[1:3]\n",
    "    \n",
    "    w_leg_exact = [(322 - 13*sqrt(70))/900, (322 + 13*sqrt(70))/900, 128/225]\n",
    "    x_leg_exact = [-1/3*sqrt(5 + 2*sqrt(10/7)), -1/3*sqrt(5 - 2*sqrt(10/7)), 0 , 1/3*sqrt(5 - 2*sqrt(10/7)), 1/3*sqrt(5 + 2*sqrt(10/7))]\n",
    "    \n",
    "    @testset begin\n",
    "        @test abs(w_leg[1] .- w_leg_exact[1]) < 1e-12\n",
    "        @test abs(w_leg[2] .- w_leg_exact[2]) < 1e-12\n",
    "        @test abs(w_leg[3] .- w_leg_exact[3]) < 1e-12\n",
    "        \n",
    "        @test abs(x_leg[1] .- x_leg_exact[1]) < 1e-12\n",
    "        @test abs(x_leg[2] .- x_leg_exact[2]) < 1e-12\n",
    "        @test abs(x_leg[3] .- x_leg_exact[3]) < 1e-12\n",
    "    end\n",
    "    \n",
    "    println(\"Legendre module test successful\")\n",
    "end\n",
    "    \n",
    "test_legendre()"
   ]
  },
  {
   "cell_type": "markdown",
   "metadata": {},
   "source": [
    "# a) Gauss-Legendre Quadrature"
   ]
  },
  {
   "cell_type": "code",
   "execution_count": 35,
   "metadata": {
    "ExecuteTime": {
     "end_time": "2019-10-18T10:32:50.613000+02:00",
     "start_time": "2019-10-18T08:32:47.213Z"
    }
   },
   "outputs": [
    {
     "data": {
      "image/png": "[encoded data removed]",
      "text/plain": [
       "Figure(PyObject <Figure size 640x480 with 1 Axes>)"
      ]
     },
     "metadata": {},
     "output_type": "display_data"
    }
   ],
   "source": [
    "\"\"\"Find the best approximation to infinity by \n",
    "finding where exp(-alpha*x) is close to zero\"\"\"\n",
    "\n",
    "function find_lambda(lambda)\n",
    "    alpha = 2\n",
    "    \n",
    "    return exp(-alpha*lambda)\n",
    "end\n",
    "\n",
    "lambdas = 1:0.1:10\n",
    "y =  map(find_lambda, lambdas)\n",
    "\n",
    "plot(lambdas, y)\n",
    "xlabel(\"lambda\")\n",
    "ylabel(\"exp(-2*lambda)\")\n",
    "title(\"Infinity approximation\")\n",
    "savefig(\"lambda.png\",dpi=500)"
   ]
  },
  {
   "cell_type": "code",
   "execution_count": 42,
   "metadata": {
    "ExecuteTime": {
     "end_time": "2019-10-18T10:33:16.483000+02:00",
     "start_time": "2019-10-18T08:33:13.461Z"
    }
   },
   "outputs": [
    {
     "data": {
      "text/plain": [
       "change_limits (generic function with 1 method)"
      ]
     },
     "execution_count": 42,
     "metadata": {},
     "output_type": "execute_result"
    }
   ],
   "source": [
    "function foo(x1, y1, z1, x2, y2, z2)\n",
    "    \"\"\"\n",
    "    Function to integrate, in this case the quantum mechanical\n",
    "    expectation value of the correlation energy between two electrons\n",
    "    which repel each other via the classical Coulomb interaction\n",
    "\n",
    "    \"\"\"\n",
    "    alpha = 2.\n",
    "    \n",
    "    norm1 = sqrt(x1*x1 + y1*y1 + z1*z1)\n",
    "    norm2 = sqrt(x2*x2 + y2*y2 + z2*z2)\n",
    "    \n",
    "    xdiff = x1 - x2\n",
    "    ydiff = y1 - y2\n",
    "    zdiff = z1 - z2\n",
    "    \n",
    "    frac_term = sqrt(xdiff*xdiff + ydiff*ydiff + zdiff*zdiff)\n",
    "\n",
    "    \n",
    "    if frac_term < 1e-8\n",
    "        result = 0.\n",
    "    else\n",
    "        result = exp(-2.0*alpha*(norm1 + norm2))/frac_term  \n",
    "    end\n",
    "    \n",
    "    return result\n",
    "end\n",
    "\n",
    "function change_limits(a, b, x::Array)\n",
    "    \"\"\" Returns the input array x with new \n",
    "        limits such that x in [a, b] \"\"\"\n",
    "    \n",
    "    return 0.5 .* (x .+ 1) .* (b - a) .+ a\n",
    "end"
   ]
  },
  {
   "cell_type": "code",
   "execution_count": 43,
   "metadata": {
    "ExecuteTime": {
     "end_time": "2019-10-18T08:06:40.441000+02:00",
     "start_time": "2019-10-18T06:05:55.586Z"
    }
   },
   "outputs": [
    {
     "data": {
      "text/plain": [
       "gauss_legendre (generic function with 1 method)"
      ]
     },
     "execution_count": 43,
     "metadata": {},
     "output_type": "execute_result"
    }
   ],
   "source": [
    "function gauss_legendre(a::Float64, b::Float64, N::Int64)\n",
    "    \"\"\" Perform a brute force Gauss-Legendre quatrature\n",
    "    numerical integration\n",
    "    a: -infty approx\n",
    "    b: +infty approx\n",
    "    N: no. of points\n",
    "    \"\"\"\n",
    "    \n",
    "    x_, w = legendre(N) # nodes and weights\n",
    "    \n",
    "    # map to [-a, b]\n",
    "    x = change_limits(a, b, x_)\n",
    "\n",
    "    \n",
    "    summ = 0.0\n",
    "    \n",
    "    for i = 1:N, j = 1:N, k = 1:N, l = 1:N, m = 1:N, n = 1:N\n",
    "        summ += w[i]*w[j]*w[k]*w[l]*w[m]*w[n]*\n",
    "        foo(x[i], x[j], x[k], x[l], x[m], x[n])\n",
    "    end\n",
    "                        \n",
    "    \n",
    "    summ *= ((b - a)*0.5)^6 # multiply result by the changed limits\n",
    "     \n",
    "    return summ, abs(summ - exact)/summ\n",
    "end\n",
    "       "
   ]
  },
  {
   "cell_type": "code",
   "execution_count": 86,
   "metadata": {
    "ExecuteTime": {
     "end_time": "2019-10-15T13:09:25.008000+02:00",
     "start_time": "2019-10-15T10:15:35.269Z"
    }
   },
   "outputs": [
    {
     "name": "stdout",
     "output_type": "stream",
     "text": [
      "n = 2 finished\n",
      "n = 3 finished\n",
      "n = 4 finished\n",
      "n = 5 finished\n",
      "n = 6 finished\n",
      "n = 7 finished\n",
      "n = 8 finished\n",
      "n = 9 finished\n",
      "n = 10 finished\n",
      "n = 11 finished\n",
      "n = 12 finished\n",
      "n = 13 finished\n",
      "n = 14 finished\n",
      "n = 15 finished\n",
      "n = 16 finished\n",
      "n = 17 finished\n",
      "n = 18 finished\n",
      "n = 19 finished\n",
      "n = 20 finished\n",
      "n = 21 finished\n",
      "n = 22 finished\n",
      "n = 23 finished\n",
      "n = 24 finished\n",
      "n = 25 finished\n",
      "n = 26 finished\n",
      "n = 27 finished\n",
      "n = 28 finished\n",
      "n = 29 finished\n",
      "n = 30 finished\n"
     ]
    }
   ],
   "source": [
    "ns = 2:30 # n-values\n",
    "lambdas = 1.:6. # approximations to infinity\n",
    "\n",
    "error_leg = zeros(length(ns), length(lambdas))\n",
    "result_leg = zeros(length(ns), length(lambdas))\n",
    "time = zeros(length(ns))\n",
    "timeavg = 0.\n",
    "for (idx, n) in enumerate(ns)\n",
    "    \n",
    "    for (jdx, l) in enumerate(lambdas)\n",
    "        result = @timed gauss_legendre(-l, l, n)\n",
    "        error_leg[idx, jdx] = result[1][2]\n",
    "        timeavg += result[2]\n",
    "        result_leg[idx, jdx] = result[1][1]\n",
    "    end\n",
    "    time[idx] = timeavg/length(lambdas)\n",
    "    println(\"n = $(n) finished\")\n",
    "end"
   ]
  },
  {
   "cell_type": "code",
   "execution_count": 65,
   "metadata": {
    "ExecuteTime": {
     "end_time": "2019-10-15T13:11:58.616000+02:00",
     "start_time": "2019-10-15T11:11:57.061Z"
    }
   },
   "outputs": [
    {
     "ename": "UndefVarError",
     "evalue": "UndefVarError: lambdas not defined",
     "output_type": "error",
     "traceback": [
      "UndefVarError: lambdas not defined",
      "",
      "Stacktrace:",
      " [1] top-level scope at In[65]:4"
     ]
    }
   ],
   "source": [
    "# making a heatmap of odd polynomial degrees\n",
    "\n",
    "fig = plt.figure()\n",
    "ax = sn.heatmap(map(log10, error_leg[2:2:29,:]), annot=true, \n",
    "           yticklabels=ns[2:2:29], xticklabels=lambdas)\n",
    "ax.set_xlabel(\"lambda\"); ax.set_ylabel(\"N\")\n",
    "ax.set_ylim(0, 14)\n",
    "ax.collections[1].colorbar.set_label(\"log10 error\")\n",
    "title(\"Error from Legendre polynomials\")\n",
    "#savefig(\"legendre_heatmap.png\", dpi=500)\n"
   ]
  },
  {
   "cell_type": "markdown",
   "metadata": {},
   "source": [
    "# b) Improved Gauss-Quadrature\n"
   ]
  },
  {
   "cell_type": "code",
   "execution_count": 54,
   "metadata": {
    "ExecuteTime": {
     "end_time": "2019-10-18T12:10:43.084000+02:00",
     "start_time": "2019-10-18T10:10:40.997Z"
    }
   },
   "outputs": [
    {
     "data": {
      "text/plain": [
       "gauss_laguerre (generic function with 1 method)"
      ]
     },
     "execution_count": 54,
     "metadata": {},
     "output_type": "execute_result"
    }
   ],
   "source": [
    "@everywhere function foo_spherical(r1::Float64, r2::Float64, theta1::Float64, \n",
    "                                   theta2::Float64, phi1::Float64, phi2::Float64)\n",
    "    \n",
    "    \"\"\"Function in spherical coordinates\"\"\"\n",
    "    \n",
    "    alpha = 2.\n",
    "    \n",
    "    cosbeta = cos(theta1)*cos(theta2) + sin(theta1)*sin(theta2)*cos(phi1 - phi2)\n",
    "    \n",
    "    dist = r1*r1 + r2*r2 - 2*r1*r2*cosbeta\n",
    "    \n",
    "    if dist < 0 || dist < 1e-8\n",
    "        result = 0.\n",
    "    else\n",
    "        result = sin(theta1)*sin(theta2)*exp(-3*(r1 + r2)) / sqrt(dist)\n",
    "    end\n",
    "        \n",
    "    return result\n",
    "    \n",
    "end\n",
    "\n",
    "\n",
    "\n",
    "function gauss_laguerre(N::Int64)\n",
    "    \"\"\" Quadrature with Laguerre polynomials \"\"\"\n",
    "    \n",
    "    rho, w_rho = laguerre(N, 2.0) # nodes and weights for rho\n",
    "    \n",
    "    phitheta, w_phitheta = legendre(N) # nodes and weights for phi and theta\n",
    "    \n",
    "    # change limits\n",
    "    phi = change_limits(0, 2*pi, phitheta) \n",
    "    theta = change_limits(0, pi, phitheta)\n",
    "\n",
    "    summ = 0\n",
    "    for i = 1:N, j = 1:N, k = 1:N, l = 1:N, m = 1:N, n = 1:N\n",
    "        summ += w_rho[i]*w_rho[j]*w_phitheta[k]*w_phitheta[l]*w_phitheta[m]*w_phitheta[n]*\n",
    "                foo_spherical(rho[i], rho[j], theta[k], theta[l], phi[m], phi[n])\n",
    "\n",
    "    end\n",
    "    \n",
    "    newlims = 0.25*pi^4\n",
    "    return summ*newlims\n",
    "end"
   ]
  },
  {
   "cell_type": "code",
   "execution_count": 74,
   "metadata": {
    "ExecuteTime": {
     "end_time": "2019-10-18T12:10:46.958000+02:00",
     "start_time": "2019-10-18T10:10:43.916Z"
    }
   },
   "outputs": [
    {
     "name": "stdout",
     "output_type": "stream",
     "text": [
      "n = 2 finished\n",
      "n = 3 finished\n",
      "n = 4 finished\n",
      "n = 5 finished\n",
      "n = 6 finished\n",
      "n = 7 finished\n",
      "n = 8 finished\n",
      "n = 9 finished\n",
      "n = 10 finished\n",
      "n = 11 finished\n",
      "n = 12 finished\n",
      "n = 13 finished\n",
      "n = 14 finished\n",
      "n = 15 finished\n",
      "n = 16 finished\n",
      "n = 17 finished\n",
      "n = 18 finished\n",
      "n = 19 finished\n",
      "n = 20 finished\n",
      "n = 21 finished\n",
      "n = 22 finished\n",
      "n = 23 finished\n",
      "n = 24 finished\n",
      "n = 25 finished\n",
      "n = 26 finished\n",
      "n = 27 finished\n",
      "n = 28 finished\n",
      "n = 29 finished\n",
      "n = 30 finished\n"
     ]
    }
   ],
   "source": [
    "ns = 2:30 # n-values\n",
    "error_lag = zeros(length(ns))\n",
    "result_lag = zeros(length(ns))\n",
    "time_lag = zeros(length(ns))\n",
    "timeavg = 0.\n",
    "for (idx, n) in enumerate(ns)\n",
    "    \n",
    "    for j = 1:5\n",
    "        result = @timed gauss_laguerre(n)\n",
    "        timeavg += result[2]\n",
    "        \n",
    "        if j == 5 \n",
    "            error_lag[idx] = abs(result[1] - exact)/result[1] \n",
    "            result_lag[idx] = result[1]\n",
    "        end\n",
    "    end\n",
    "    time_lag[idx] = timeavg/5\n",
    "    println(\"n = $(n) finished\")\n",
    "end"
   ]
  },
  {
   "cell_type": "code",
   "execution_count": 70,
   "metadata": {},
   "outputs": [
    {
     "data": {
      "image/png": "[encoded data removed]",
      "text/plain": [
       "Figure(PyObject <Figure size 700x500 with 3 Axes>)"
      ]
     },
     "metadata": {},
     "output_type": "display_data"
    },
    {
     "name": "stdout",
     "output_type": "stream",
     "text": [
      "[-0.15, 1.68, 4.26, 7.11, 10.1, 13.18]\n"
     ]
    }
   ],
   "source": [
    "ns = 2:30\n",
    "\n",
    "error_lag, result_lag, time_lag = load(\"laguerre.jld\", \"error\", \"result\", \"time\")\n",
    "error_leg, result_leg, time_leg = load(\"legendre.jld\", \"error\", \"result\", \"time\")\n",
    "\n",
    "plt.figure(figsize=(7,5))\n",
    "\n",
    "ax1 = subplot(221)\n",
    "ax1.scatter(ns, result_lag, s=6)\n",
    "ax1.scatter(ns, result_leg[:,3], s=6)\n",
    "ax1.plot([ns[1], ns[end]], [exact, exact], color=\"r\", linewidth=1.5, label=\"Exact value\", \"--\")\n",
    "ax1.set_xlabel(\"N\"); ax1.set_ylabel(\"I\")\n",
    "ax1.legend()\n",
    "\n",
    "\n",
    "ax2 = subplot(222)\n",
    "\n",
    "ax2.scatter(ns[5:end], log10.(error_lag[5:end]), s=6)\n",
    "ax2.scatter(ns[5:end], log10.(error_leg[5:end,3]), s=6)\n",
    "ax2.set_ylabel(\"log10 error\"); ax2.set_xlabel(\"N\")\n",
    "\n",
    "ax3 = subplot(212)\n",
    "\n",
    "ax3.scatter(log10.(ns), log10.(time_lag), label=\"Laguerre\", s=6)\n",
    "ax3.scatter(log10.(ns), log10.(time_leg), label=\"Legendre w/ lambda = 3.0\", s=6)\n",
    "ax3.set_title(\"Time usage\")\n",
    "ax3.set_xlabel(\"log10 N\"); ax3.set_ylabel(\"log10 time [s]\")\n",
    "plt.tight_layout()\n",
    "\n",
    "plt.legend()\n",
    "#plt.savefig(\"laguerre_legendre.png\", dpi=500)\n",
    "\n",
    "println([round(log10(mean(error_leg[:,i])), digits=2) for i = 1:6])"
   ]
  },
  {
   "cell_type": "markdown",
   "metadata": {},
   "source": [
    "# c) Monte Carlo Integration"
   ]
  },
  {
   "cell_type": "code",
   "execution_count": 111,
   "metadata": {
    "ExecuteTime": {
     "end_time": "2019-10-16T18:02:13.618000+02:00",
     "start_time": "2019-10-16T16:02:13.546Z"
    }
   },
   "outputs": [
    {
     "data": {
      "text/plain": [
       "bruteforce_montecarlo (generic function with 1 method)"
      ]
     },
     "execution_count": 111,
     "metadata": {},
     "output_type": "execute_result"
    }
   ],
   "source": [
    "function bruteforce_montecarlo(lambda::Float64, N::Int64)\n",
    "    \"\"\" MonteCarlo integration with uniform sampling \"\"\"\n",
    "    \n",
    "    summ = 0.\n",
    "    summ2 = 0.\n",
    "    t = @elapsed begin\n",
    "        for i = 1:N\n",
    "            \n",
    "            x = -lambda .+ 2*lambda .* rand(6) # generate 6 uniform random x-values in the interval x in [-lambda, lambda]\n",
    "\n",
    "            y = foo(x[1], x[2], x[3], x[4], x[5], x[6]) # evaluate the function at the random x-values\n",
    "            \n",
    "            summ += y # sum the result\n",
    "            summ2 += y*y\n",
    "        end\n",
    "    end\n",
    "  \n",
    "    # calculate the mean and multiply by the changed limits\n",
    "    summ /= N\n",
    "    summ2 /= N\n",
    "    area = (2*lambda)^6\n",
    "    \n",
    "    int_est = summ*area\n",
    "    std_dev = area*sqrt((summ2 - summ^2)/N)\n",
    "    return summ*area, std_dev, t\n",
    "end"
   ]
  },
  {
   "cell_type": "markdown",
   "metadata": {},
   "source": [
    "# d) Improved Monte Carlo Integration"
   ]
  },
  {
   "cell_type": "code",
   "execution_count": 50,
   "metadata": {
    "ExecuteTime": {
     "end_time": "2019-10-17T09:14:49.386000+02:00",
     "start_time": "2019-10-17T07:14:41.118Z"
    }
   },
   "outputs": [
    {
     "data": {
      "text/plain": [
       "(0.1932523408846698, 0.0003356066819025983, 7.422036201)"
      ]
     },
     "execution_count": 50,
     "metadata": {},
     "output_type": "execute_result"
    }
   ],
   "source": [
    "@everywhere function foo_spherical_MC(r1::Float64, r2::Float64, theta1::Float64, \n",
    "                                   theta2::Float64, phi1::Float64, phi2::Float64)\n",
    "    \n",
    "    \"\"\"Function in spherical coordinates with importance sampling with \"\"\"\n",
    "    \n",
    "    alpha = 2.\n",
    "    \n",
    "    cosbeta = cos(theta1)*cos(theta2) + sin(theta1)*sin(theta2)*cos(phi1 - phi2)\n",
    "    \n",
    "    dist = r1*r1 + r2*r2 - 2*r1*r2*cosbeta\n",
    "    \n",
    "    if dist < 0 || dist < 1e-12\n",
    "        result = 0.\n",
    "    else\n",
    "        result = r1*r1*r2*r2*sin(theta1)*sin(theta2)*exp(-4*(r1 + r2)) / sqrt(dist)\n",
    "    end\n",
    "        \n",
    "    return result\n",
    "    \n",
    "end\n",
    "\n",
    "@everywhere function improved_montecarlo(N::Int64)\n",
    "    \"\"\" Monte Carlo integration using exponential PDF and spherical coordinates \"\"\"\n",
    "    \n",
    "    @everywhere PDF_exp(x::Float64) = -0.25*log(1 - x) # new x values from exp PDF\n",
    "    @everywhere PDF(y::Float64) = 4*exp(-4*y) # exponential propability distribution function\n",
    "    \n",
    "    phimax = 2*pi\n",
    "    \n",
    "    thetamax = pi\n",
    "    summ1::Float64 = 0.\n",
    "    summ2::Float64 = 0.\n",
    "    \n",
    "    t = @elapsed begin\n",
    "        for i = 1:N\n",
    "            rands = rand(Float64, 6) # random numbers in [0, 1]\n",
    "            \n",
    "            r1, r2 = map(PDF_exp, rands[1:2])     # new r-values\n",
    "            theta1, theta2 = thetamax .* rands[3:4]\n",
    "            phi1, phi2, = phimax .* rands[5:6]\n",
    "\n",
    "            temp = foo_spherical_MC(r1, r2, theta1, theta2, phi1, phi2)/(PDF(r1)*PDF(r2))\n",
    "            summ1 += temp \n",
    "            summ2 += temp*temp\n",
    "            \n",
    "        end # end for\n",
    "    end\n",
    "\n",
    "    summ1 /= N\n",
    "    summ2 /= N\n",
    "    \n",
    "    jacobian = 4*pi^4\n",
    "\n",
    "    std_dev = sqrt((summ2 - summ1*summ1)/N)*jacobian\n",
    "    return summ1*jacobian, std_dev, t\n",
    "    \n",
    "end\n",
    "\n",
    "function improved_montecarlo_parallel(N::Int64, ncores::Int=4)\n",
    "    \n",
    "    t = @elapsed begin\n",
    "        summ = @distributed (+) for i = 1:ncores\n",
    "            improved_montecarlo(ceil(Int, N/ncores))[1]\n",
    "        end\n",
    "    end\n",
    "\n",
    "    summ /= ncores\n",
    "    return summ, t\n",
    "end\n",
    "\n",
    "improved_montecarlo(10000000)"
   ]
  },
  {
   "cell_type": "code",
   "execution_count": 33,
   "metadata": {
    "ExecuteTime": {
     "end_time": "2019-10-18T12:00:24.006000+02:00",
     "start_time": "2019-10-18T10:00:23.602Z"
    }
   },
   "outputs": [
    {
     "data": {
      "text/plain": [
       "study_montecarlo (generic function with 1 method)"
      ]
     },
     "execution_count": 33,
     "metadata": {},
     "output_type": "execute_result"
    }
   ],
   "source": [
    "function study_montecarlo()\n",
    "    \"\"\" Perform multiple montecarlo experiments and save the results \"\"\"\n",
    "    \n",
    "    ns_MC = [10^i for i = 1:8] # number of Monte Carlo iterations\n",
    "    m = 100 # number of iterations per n\n",
    "\n",
    "    error_brute = zeros(length(ns_MC), m)\n",
    "    error_impsamp = copy(error_brute)\n",
    "\n",
    "    time_brute = zeros(length(ns_MC))\n",
    "    time_impsamp = copy(time_brute)\n",
    "\n",
    "    stddev_brute = copy(error_brute)\n",
    "    stddev_impsamp = copy(stddev_brute)\n",
    "\n",
    "    for i = 1:length(ns_MC)\n",
    "        for j = 1:m\n",
    "            result_brute = bruteforce_montecarlo(2.0, ns_MC[i])\n",
    "            result_impsamp = improved_montecarlo(ns_MC[i])\n",
    "\n",
    "            error_brute[i, j] = abs(result_brute[1] - exact)/result_brute[1]\n",
    "            error_impsamp[i, j] = abs(result_impsamp[1] - exact)/result_impsamp[1]\n",
    "\n",
    "            stddev_brute[i, j] = result_brute[2]\n",
    "            stddev_impsamp[i, j] = result_impsamp[2]\n",
    "\n",
    "            time_brute[i] += result_brute[3]\n",
    "            time_impsamp[i] += result_impsamp[3]\n",
    "        end # end j\n",
    "\n",
    "        # get mean of times\n",
    "        time_brute[i] /= m \n",
    "        time_impsamp[i] /= m    \n",
    "\n",
    "    end # end i\n",
    "    \n",
    "    save(\"error_brute.jld\", \"error_brute\", error_brute)\n",
    "    save(\"error_impsamp.jld\", \"error_impsamp\", error_impsamp)\n",
    "    save(\"time_brute.jld\", \"time_brute\", time_brute)\n",
    "    save(\"time_impsamp.jld\", \"time_impsamp\", time_impsamp)\n",
    "    save(\"stddev_brute.jld\", \"stddev_brute\", stddev_brute)\n",
    "    save(\"stddev_impsamp.jld\", \"stddev_impsamp\", stddev_impsamp)\n",
    "end\n",
    "\n",
    "# study_montecarlo() # executed in 3h 27m 32s,\n"
   ]
  },
  {
   "cell_type": "code",
   "execution_count": 72,
   "metadata": {
    "ExecuteTime": {
     "end_time": "2019-10-18T10:34:42.510000+02:00",
     "start_time": "2019-10-18T08:34:34.891Z"
    }
   },
   "outputs": [],
   "source": [
    "error_brute = load(\"./data/error_brute.jld\", \"error_brute\")\n",
    "error_impsamp = load(\"./data/error_impsamp.jld\", \"error_impsamp\")\n",
    "\n",
    "time_brute = load(\"./data/time_brute.jld\", \"time_brute\")\n",
    "time_impsamp = load(\"./data/time_impsamp.jld\", \"time_impsamp\")\n",
    "\n",
    "stddev_brute = load(\"./data/stddev_brute.jld\", \"stddev_brute\")\n",
    "stddev_impsamp = load(\"./data/stddev_impsamp.jld\", \"stddev_impsamp\");"
   ]
  },
  {
   "cell_type": "code",
   "execution_count": 87,
   "metadata": {
    "ExecuteTime": {
     "end_time": "2019-10-18T11:53:13.619000+02:00",
     "start_time": "2019-10-18T09:53:11.750Z"
    }
   },
   "outputs": [
    {
     "data": {
      "image/png": "[encoded data removed]",
      "text/plain": [
       "Figure(PyObject <Figure size 700x500 with 3 Axes>)"
      ]
     },
     "metadata": {},
     "output_type": "display_data"
    }
   ],
   "source": [
    "\"\"\" Plotting Monte Carlo results \"\"\"\n",
    "# mean results of the bruteforce- and importance sampling methods\n",
    "\n",
    "log10ns = 1:8\n",
    "means_brute = [mean(error_brute[i,:]) for i in log10ns]\n",
    "means_impsamp = [mean(error_impsamp[i,:]) for i in log10ns]\n",
    "\n",
    "# means of the standard deviations of both methods\n",
    "\n",
    "\n",
    "means_std_brute = [sqrt(mean(stddev_brute[i,:] .^2)) for i in log10ns]\n",
    "means_std_impsamp = [sqrt(mean(stddev_impsamp[i,:] .^2)) for i in log10ns]\n",
    "\n",
    "\"\"\"fig, (ax1, ax2) = subplots(1, 2, figsize=(10, 4), sharex=true)\n",
    "ax1.scatter(1:8, map(log10, means_brute))\n",
    "ax1.scatter(1:8, map(log10, means_impsamp))\n",
    "ax1.set_ylabel(\"log10 error\")\n",
    "ax1.set_xlabel(\"log10 N\")\n",
    "\n",
    "\n",
    "ax2.scatter(1:8, map(log10, means_std_brute), label=\"Brute-force\")\n",
    "ax2.scatter(1:8, map(log10, means_std_impsamp), label=\"w/ imp. sampling\")\n",
    "ax2.set_xlabel(\"log10 N\")\n",
    "ax2.set_ylabel(\"log10 Standard deviation\")\n",
    "\n",
    "suptitle(\"Mean error and std. deviation of Monte Carlo integration over 100 iterations\")\n",
    "fig.legend()\n",
    "#fig.savefig(\"montecarlo_error_stddev.png\", dpi=500)\"\"\"\n",
    "\n",
    "\n",
    "plt.figure(figsize=(7,5))\n",
    "\n",
    "ax1 = subplot(221)\n",
    "ax1.scatter(log10ns, map(log10, means_brute))\n",
    "ax1.scatter(log10ns, map(log10, means_impsamp))\n",
    "ax1.set_ylabel(\"log10 error\")\n",
    "\n",
    "\n",
    "ax2 = subplot(222)\n",
    "\n",
    "ax2.scatter(log10ns, map(log10, means_std_brute), label=\"Brute-force\")\n",
    "ax2.scatter(log10ns, map(log10, means_std_impsamp), label=\"w/ imp. sampling\")\n",
    "ax2.set_ylabel(\"log10 Standard deviation\")\n",
    "\n",
    "ax3 = subplot(212)\n",
    "\n",
    "ax3.scatter(log10ns, log10.(time_brute), s=7, label=\"Brute Force\")\n",
    "ax3.scatter(log10ns, log10.(time_impsamp), s=7, label=\"w/ Imp. sampling\")\n",
    "ax3.set_xlabel(\"log10 n\")\n",
    "ax3.set_ylabel(\"log10 CPU time [s]\")\n",
    "ax3.legend()\n",
    "plt.tight_layout()\n",
    "plt.savefig(\"montecarlo.png\", dpi=500)\n"
   ]
  },
  {
   "cell_type": "code",
   "execution_count": 76,
   "metadata": {},
   "outputs": [
    {
     "data": {
      "image/png": "[encoded data removed]",
      "text/plain": [
       "Figure(PyObject <Figure size 640x480 with 1 Axes>)"
      ]
     },
     "metadata": {},
     "output_type": "display_data"
    },
    {
     "data": {
      "text/plain": [
       "PyObject <matplotlib.collections.PathCollection object at 0x0000000046F66780>"
      ]
     },
     "execution_count": 76,
     "metadata": {},
     "output_type": "execute_result"
    }
   ],
   "source": [
    "plt.scatter(1:8, log10.(time_brute))\n",
    "plt.scatter(1:8, log10.(time_impsamp))"
   ]
  },
  {
   "cell_type": "markdown",
   "metadata": {},
   "source": [
    "# Parallelization"
   ]
  },
  {
   "cell_type": "code",
   "execution_count": 3,
   "metadata": {
    "ExecuteTime": {
     "end_time": "2019-10-18T12:15:56.830000+02:00",
     "start_time": "2019-10-18T10:15:56.819Z"
    }
   },
   "outputs": [],
   "source": [
    "\"\"\" Importing results from C experiments \"\"\"\n",
    "\n",
    "t_parallel = zeros(6, 100)\n",
    "t_serial = zeros(6, 100)\n",
    "\n",
    "error_serial = zeros(6, 100)\n",
    "error_parallel = zeros(6, 100)\n",
    "\n",
    "stddev_parallel = zeros(6, 100)\n",
    "stddev_serial = zeros(6, 100)\n",
    "\n",
    "for i = 1:6\n",
    "    n = string(10^(i+2))\n",
    "\n",
    "    open(\"serial_n=$(n).txt\") do f\n",
    "        readline(f)\n",
    "\n",
    "        j = 1\n",
    "        for ln in eachline(f)\n",
    "            words = split(ln)\n",
    "            t_serial[i, j] = parse(Float64, words[3])\n",
    "            error_serial[i, j] = parse(Float64, words[5])\n",
    "            stddev_serial[i, j] = parse(Float64, words[7])\n",
    "            \n",
    "        end\n",
    "        \n",
    "    end\n",
    "\n",
    "    open(\"parallel_n=$(n).txt\") do f\n",
    "        time = 0.\n",
    "        error = 0.\n",
    "        stddev = 0.\n",
    "        readline(f)\n",
    "\n",
    "        j = 1\n",
    "        for ln in eachline(f)\n",
    "            words = split(ln)\n",
    "            t_parallel[i, j] = parse(Float64, words[3])\n",
    "            error_parallel[i, j] = parse(Float64, words[5])\n",
    "            stddev_parallel[i, j] = parse(Float64, words[7])\n",
    "            \n",
    "        end\n",
    "    end\n",
    "    \n",
    "end # end i\n"
   ]
  },
  {
   "cell_type": "code",
   "execution_count": 64,
   "metadata": {},
   "outputs": [
    {
     "ename": "UndefVarError",
     "evalue": "UndefVarError: t_serial not defined",
     "output_type": "error",
     "traceback": [
      "UndefVarError: t_serial not defined",
      "",
      "Stacktrace:",
      " [1] (::getfield(Main, Symbol(\"##3#4\")))(::Int64) at .\\none:0",
      " [2] iterate at .\\generator.jl:47 [inlined]",
      " [3] collect(::Base.Generator{UnitRange{Int64},getfield(Main, Symbol(\"##3#4\"))}) at .\\array.jl:606",
      " [4] top-level scope at In[64]:1"
     ]
    }
   ],
   "source": [
    "t_serial = [mean(t_serial[i,:]) for i = 1:6]\n",
    "t_parallel = [mean(t_parallel[i,:]) for i = 1:6]\n",
    "\n",
    "\n",
    "\n",
    "t_speedup = t_serial ./ t_parallel\n",
    "t_julia = time_impsamp[3:end]\n",
    "\n",
    "n_values = 3:8\n",
    "\n",
    "plt.figure()\n",
    "plt.scatter(n_values, map(log10, t_parallel), label=\"Parallel C (MPI)\")\n",
    "plt.scatter(n_values, map(log10, t_serial), label=\"Serial C\")\n",
    "plt.scatter(n_values, map(log10, t_julia), label=\"Serial Julia\")\n",
    "plt.legend()\n",
    "#plt.xticks([3, 4, 5, 6, 7, 8])\n",
    "plt.xlabel(\"log10 n\"); plt.ylabel(\"log10 CPU time\")\n",
    "\n",
    "\n",
    "\"\"\"plt.figure()\n",
    "plt.scatter(n_values, error_parallel, label=\"Parallel error\")\n",
    "plt.scatter(n_values, error_serial, label=\"Serial error\")\n",
    "plt.scatter(n_values, map(log10,means_impsamp[1:end-1]), label=\"Julia error\")\n",
    "plt.legend()\"\"\""
   ]
  },
  {
   "cell_type": "code",
   "execution_count": 63,
   "metadata": {},
   "outputs": [
    {
     "data": {
      "image/png": "[encoded data removed]",
      "text/plain": [
       "Figure(PyObject <Figure size 640x480 with 1 Axes>)"
      ]
     },
     "metadata": {},
     "output_type": "display_data"
    },
    {
     "data": {
      "text/plain": [
       "PyObject <matplotlib.legend.Legend object at 0x00000000461F4A58>"
      ]
     },
     "execution_count": 63,
     "metadata": {},
     "output_type": "execute_result"
    }
   ],
   "source": [
    "plt.figure()\n",
    "sn.hist(rand(1000), alpha=.3, label=\"Uniform\")\n",
    "sn.hist(randexp(1000) ./ 8, alpha=.3, label=\"Exponential\")\n",
    "plt.xticks(()); plt.ylabel(\"Counts\")\n",
    "plt.title(\"Uniform v. Exponential distribution\")\n",
    "plt.savefig(\"uni_v_expo.png\", dpi=500)\n",
    "plt.legend()"
   ]
  },
  {
   "cell_type": "code",
   "execution_count": null,
   "metadata": {},
   "outputs": [],
   "source": []
  }
 ],
 "metadata": {
  "kernelspec": {
   "display_name": "Julia 1.1.1",
   "language": "julia",
   "name": "julia-1.1"
  },
  "language_info": {
   "file_extension": ".jl",
   "mimetype": "application/julia",
   "name": "julia",
   "version": "1.1.1"
  },
  "toc": {
   "base_numbering": 1,
   "nav_menu": {},
   "number_sections": true,
   "sideBar": true,
   "skip_h1_title": false,
   "title_cell": "Table of Contents",
   "title_sidebar": "Contents",
   "toc_cell": false,
   "toc_position": {},
   "toc_section_display": true,
   "toc_window_display": false
  },
  "varInspector": {
   "cols": {
    "lenName": 16,
    "lenType": 16,
    "lenVar": 40
   },
   "kernels_config": {
    "python": {
     "delete_cmd_postfix": "",
     "delete_cmd_prefix": "del ",
     "library": "var_list.py",
     "varRefreshCmd": "print(var_dic_list())"
    },
    "r": {
     "delete_cmd_postfix": ") ",
     "delete_cmd_prefix": "rm(",
     "library": "var_list.r",
     "varRefreshCmd": "cat(var_dic_list()) "
    }
   },
   "types_to_exclude": [
    "module",
    "function",
    "builtin_function_or_method",
    "instance",
    "_Feature"
   ],
   "window_display": false
  }
 },
 "nbformat": 4,
 "nbformat_minor": 4
}
